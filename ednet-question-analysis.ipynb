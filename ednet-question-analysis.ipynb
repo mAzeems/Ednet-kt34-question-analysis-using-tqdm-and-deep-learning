{
 "cells": [
  {
   "cell_type": "code",
   "execution_count": 1,
   "id": "attractive-documentary",
   "metadata": {
    "_cell_guid": "b1076dfc-b9ad-4769-8c92-a6c4dae69d19",
    "_uuid": "8f2839f25d086af736a60e9eeb907d3b93b6e0e5",
    "execution": {
     "iopub.execute_input": "2021-05-09T04:36:36.793945Z",
     "iopub.status.busy": "2021-05-09T04:36:36.793265Z",
     "iopub.status.idle": "2021-05-09T04:36:37.531592Z",
     "shell.execute_reply": "2021-05-09T04:36:37.530551Z"
    },
    "papermill": {
     "duration": 0.773482,
     "end_time": "2021-05-09T04:36:37.531762",
     "exception": false,
     "start_time": "2021-05-09T04:36:36.758280",
     "status": "completed"
    },
    "tags": []
   },
   "outputs": [],
   "source": [
    "# This Python 3 environment comes with many helpful analytics libraries installed\n",
    "# It is defined by the kaggle/python Docker image: https://github.com/kaggle/docker-python\n",
    "# For example, here's several helpful packages to load\n",
    "\n",
    "import numpy as np # linear algebra\n",
    "import pandas as pd # data processing, CSV file I/O (e.g. pd.read_csv)\n",
    "import tqdm\n",
    "import matplotlib.pyplot as plt\n",
    "import seaborn as sns\n",
    "import os\n",
    "import itertools"
   ]
  },
  {
   "cell_type": "code",
   "execution_count": 2,
   "id": "incident-still",
   "metadata": {
    "execution": {
     "iopub.execute_input": "2021-05-09T04:36:37.588357Z",
     "iopub.status.busy": "2021-05-09T04:36:37.587757Z",
     "iopub.status.idle": "2021-05-09T04:37:15.433602Z",
     "shell.execute_reply": "2021-05-09T04:37:15.432975Z"
    },
    "papermill": {
     "duration": 37.876213,
     "end_time": "2021-05-09T04:37:15.433748",
     "exception": false,
     "start_time": "2021-05-09T04:36:37.557535",
     "status": "completed"
    },
    "tags": []
   },
   "outputs": [],
   "source": [
    "df = pd.read_feather('../input/ednet-kt34/KT3_merged.feather')\n",
    "questions_df = pd.read_csv('../input/ednet-contents/questions.csv')"
   ]
  },
  {
   "cell_type": "code",
   "execution_count": 3,
   "id": "canadian-january",
   "metadata": {
    "execution": {
     "iopub.execute_input": "2021-05-09T04:37:15.493565Z",
     "iopub.status.busy": "2021-05-09T04:37:15.493031Z",
     "iopub.status.idle": "2021-05-09T04:37:15.507633Z",
     "shell.execute_reply": "2021-05-09T04:37:15.508023Z"
    },
    "papermill": {
     "duration": 0.048668,
     "end_time": "2021-05-09T04:37:15.508173",
     "exception": false,
     "start_time": "2021-05-09T04:37:15.459505",
     "status": "completed"
    },
    "tags": []
   },
   "outputs": [
    {
     "data": {
      "text/html": [
       "<div>\n",
       "<style scoped>\n",
       "    .dataframe tbody tr th:only-of-type {\n",
       "        vertical-align: middle;\n",
       "    }\n",
       "\n",
       "    .dataframe tbody tr th {\n",
       "        vertical-align: top;\n",
       "    }\n",
       "\n",
       "    .dataframe thead th {\n",
       "        text-align: right;\n",
       "    }\n",
       "</style>\n",
       "<table border=\"1\" class=\"dataframe\">\n",
       "  <thead>\n",
       "    <tr style=\"text-align: right;\">\n",
       "      <th></th>\n",
       "      <th>question_id</th>\n",
       "      <th>bundle_id</th>\n",
       "      <th>explanation_id</th>\n",
       "      <th>correct_answer</th>\n",
       "      <th>part</th>\n",
       "      <th>tags</th>\n",
       "      <th>deployed_at</th>\n",
       "    </tr>\n",
       "  </thead>\n",
       "  <tbody>\n",
       "    <tr>\n",
       "      <th>0</th>\n",
       "      <td>q1</td>\n",
       "      <td>b1</td>\n",
       "      <td>e1</td>\n",
       "      <td>b</td>\n",
       "      <td>1</td>\n",
       "      <td>1;2;179;181</td>\n",
       "      <td>1558093217098</td>\n",
       "    </tr>\n",
       "    <tr>\n",
       "      <th>1</th>\n",
       "      <td>q2</td>\n",
       "      <td>b2</td>\n",
       "      <td>e2</td>\n",
       "      <td>a</td>\n",
       "      <td>1</td>\n",
       "      <td>15;2;182</td>\n",
       "      <td>1558093219720</td>\n",
       "    </tr>\n",
       "    <tr>\n",
       "      <th>2</th>\n",
       "      <td>q3</td>\n",
       "      <td>b3</td>\n",
       "      <td>e3</td>\n",
       "      <td>b</td>\n",
       "      <td>1</td>\n",
       "      <td>14;2;179;183</td>\n",
       "      <td>1558093222784</td>\n",
       "    </tr>\n",
       "    <tr>\n",
       "      <th>3</th>\n",
       "      <td>q4</td>\n",
       "      <td>b4</td>\n",
       "      <td>e4</td>\n",
       "      <td>b</td>\n",
       "      <td>1</td>\n",
       "      <td>9;2;179;184</td>\n",
       "      <td>1558093225357</td>\n",
       "    </tr>\n",
       "    <tr>\n",
       "      <th>4</th>\n",
       "      <td>q5</td>\n",
       "      <td>b5</td>\n",
       "      <td>e5</td>\n",
       "      <td>c</td>\n",
       "      <td>1</td>\n",
       "      <td>8;2;179;181</td>\n",
       "      <td>1558093228439</td>\n",
       "    </tr>\n",
       "  </tbody>\n",
       "</table>\n",
       "</div>"
      ],
      "text/plain": [
       "  question_id bundle_id explanation_id correct_answer  part          tags  \\\n",
       "0          q1        b1             e1              b     1   1;2;179;181   \n",
       "1          q2        b2             e2              a     1      15;2;182   \n",
       "2          q3        b3             e3              b     1  14;2;179;183   \n",
       "3          q4        b4             e4              b     1   9;2;179;184   \n",
       "4          q5        b5             e5              c     1   8;2;179;181   \n",
       "\n",
       "     deployed_at  \n",
       "0  1558093217098  \n",
       "1  1558093219720  \n",
       "2  1558093222784  \n",
       "3  1558093225357  \n",
       "4  1558093228439  "
      ]
     },
     "execution_count": 3,
     "metadata": {},
     "output_type": "execute_result"
    }
   ],
   "source": [
    "questions_df.head()"
   ]
  },
  {
   "cell_type": "code",
   "execution_count": 4,
   "id": "stone-differential",
   "metadata": {
    "execution": {
     "iopub.execute_input": "2021-05-09T04:37:15.578443Z",
     "iopub.status.busy": "2021-05-09T04:37:15.573793Z",
     "iopub.status.idle": "2021-05-09T04:37:15.580656Z",
     "shell.execute_reply": "2021-05-09T04:37:15.580212Z"
    },
    "papermill": {
     "duration": 0.046068,
     "end_time": "2021-05-09T04:37:15.580777",
     "exception": false,
     "start_time": "2021-05-09T04:37:15.534709",
     "status": "completed"
    },
    "tags": []
   },
   "outputs": [
    {
     "data": {
      "text/html": [
       "<div>\n",
       "<style scoped>\n",
       "    .dataframe tbody tr th:only-of-type {\n",
       "        vertical-align: middle;\n",
       "    }\n",
       "\n",
       "    .dataframe tbody tr th {\n",
       "        vertical-align: top;\n",
       "    }\n",
       "\n",
       "    .dataframe thead th {\n",
       "        text-align: right;\n",
       "    }\n",
       "</style>\n",
       "<table border=\"1\" class=\"dataframe\">\n",
       "  <thead>\n",
       "    <tr style=\"text-align: right;\">\n",
       "      <th></th>\n",
       "      <th>timestamp</th>\n",
       "      <th>action_type</th>\n",
       "      <th>item_id</th>\n",
       "      <th>source</th>\n",
       "      <th>user_answer</th>\n",
       "      <th>platform</th>\n",
       "      <th>user_id</th>\n",
       "    </tr>\n",
       "  </thead>\n",
       "  <tbody>\n",
       "    <tr>\n",
       "      <th>0</th>\n",
       "      <td>1565096151269</td>\n",
       "      <td>enter</td>\n",
       "      <td>b3544</td>\n",
       "      <td>diagnosis</td>\n",
       "      <td></td>\n",
       "      <td>mobile</td>\n",
       "      <td>1</td>\n",
       "    </tr>\n",
       "    <tr>\n",
       "      <th>1</th>\n",
       "      <td>1565096187972</td>\n",
       "      <td>respond</td>\n",
       "      <td>q5012</td>\n",
       "      <td>diagnosis</td>\n",
       "      <td>b</td>\n",
       "      <td>mobile</td>\n",
       "      <td>1</td>\n",
       "    </tr>\n",
       "    <tr>\n",
       "      <th>2</th>\n",
       "      <td>1565096194904</td>\n",
       "      <td>submit</td>\n",
       "      <td>b3544</td>\n",
       "      <td>diagnosis</td>\n",
       "      <td></td>\n",
       "      <td>mobile</td>\n",
       "      <td>1</td>\n",
       "    </tr>\n",
       "    <tr>\n",
       "      <th>3</th>\n",
       "      <td>1565096195001</td>\n",
       "      <td>enter</td>\n",
       "      <td>b3238</td>\n",
       "      <td>diagnosis</td>\n",
       "      <td></td>\n",
       "      <td>mobile</td>\n",
       "      <td>1</td>\n",
       "    </tr>\n",
       "    <tr>\n",
       "      <th>4</th>\n",
       "      <td>1565096218682</td>\n",
       "      <td>respond</td>\n",
       "      <td>q4706</td>\n",
       "      <td>diagnosis</td>\n",
       "      <td>c</td>\n",
       "      <td>mobile</td>\n",
       "      <td>1</td>\n",
       "    </tr>\n",
       "    <tr>\n",
       "      <th>5</th>\n",
       "      <td>1565096223029</td>\n",
       "      <td>submit</td>\n",
       "      <td>b3238</td>\n",
       "      <td>diagnosis</td>\n",
       "      <td></td>\n",
       "      <td>mobile</td>\n",
       "      <td>1</td>\n",
       "    </tr>\n",
       "    <tr>\n",
       "      <th>6</th>\n",
       "      <td>1565096223119</td>\n",
       "      <td>enter</td>\n",
       "      <td>b2898</td>\n",
       "      <td>diagnosis</td>\n",
       "      <td></td>\n",
       "      <td>mobile</td>\n",
       "      <td>1</td>\n",
       "    </tr>\n",
       "    <tr>\n",
       "      <th>7</th>\n",
       "      <td>1565096290094</td>\n",
       "      <td>respond</td>\n",
       "      <td>q4366</td>\n",
       "      <td>diagnosis</td>\n",
       "      <td>b</td>\n",
       "      <td>mobile</td>\n",
       "      <td>1</td>\n",
       "    </tr>\n",
       "    <tr>\n",
       "      <th>8</th>\n",
       "      <td>1565096295925</td>\n",
       "      <td>submit</td>\n",
       "      <td>b2898</td>\n",
       "      <td>diagnosis</td>\n",
       "      <td></td>\n",
       "      <td>mobile</td>\n",
       "      <td>1</td>\n",
       "    </tr>\n",
       "    <tr>\n",
       "      <th>9</th>\n",
       "      <td>1565096296012</td>\n",
       "      <td>enter</td>\n",
       "      <td>b3361</td>\n",
       "      <td>diagnosis</td>\n",
       "      <td></td>\n",
       "      <td>mobile</td>\n",
       "      <td>1</td>\n",
       "    </tr>\n",
       "    <tr>\n",
       "      <th>10</th>\n",
       "      <td>1565096337361</td>\n",
       "      <td>respond</td>\n",
       "      <td>q4829</td>\n",
       "      <td>diagnosis</td>\n",
       "      <td>a</td>\n",
       "      <td>mobile</td>\n",
       "      <td>1</td>\n",
       "    </tr>\n",
       "    <tr>\n",
       "      <th>11</th>\n",
       "      <td>1565096341309</td>\n",
       "      <td>submit</td>\n",
       "      <td>b3361</td>\n",
       "      <td>diagnosis</td>\n",
       "      <td></td>\n",
       "      <td>mobile</td>\n",
       "      <td>1</td>\n",
       "    </tr>\n",
       "    <tr>\n",
       "      <th>12</th>\n",
       "      <td>1565096341395</td>\n",
       "      <td>enter</td>\n",
       "      <td>b5060</td>\n",
       "      <td>diagnosis</td>\n",
       "      <td></td>\n",
       "      <td>mobile</td>\n",
       "      <td>1</td>\n",
       "    </tr>\n",
       "    <tr>\n",
       "      <th>13</th>\n",
       "      <td>1565096395328</td>\n",
       "      <td>respond</td>\n",
       "      <td>q6528</td>\n",
       "      <td>diagnosis</td>\n",
       "      <td>b</td>\n",
       "      <td>mobile</td>\n",
       "      <td>1</td>\n",
       "    </tr>\n",
       "    <tr>\n",
       "      <th>14</th>\n",
       "      <td>1565096403465</td>\n",
       "      <td>submit</td>\n",
       "      <td>b5060</td>\n",
       "      <td>diagnosis</td>\n",
       "      <td></td>\n",
       "      <td>mobile</td>\n",
       "      <td>1</td>\n",
       "    </tr>\n",
       "    <tr>\n",
       "      <th>15</th>\n",
       "      <td>1565096403559</td>\n",
       "      <td>enter</td>\n",
       "      <td>b3325</td>\n",
       "      <td>diagnosis</td>\n",
       "      <td></td>\n",
       "      <td>mobile</td>\n",
       "      <td>1</td>\n",
       "    </tr>\n",
       "    <tr>\n",
       "      <th>16</th>\n",
       "      <td>1565096461374</td>\n",
       "      <td>respond</td>\n",
       "      <td>q4793</td>\n",
       "      <td>diagnosis</td>\n",
       "      <td>a</td>\n",
       "      <td>mobile</td>\n",
       "      <td>1</td>\n",
       "    </tr>\n",
       "    <tr>\n",
       "      <th>17</th>\n",
       "      <td>1565096465406</td>\n",
       "      <td>submit</td>\n",
       "      <td>b3325</td>\n",
       "      <td>diagnosis</td>\n",
       "      <td></td>\n",
       "      <td>mobile</td>\n",
       "      <td>1</td>\n",
       "    </tr>\n",
       "    <tr>\n",
       "      <th>18</th>\n",
       "      <td>1565096465497</td>\n",
       "      <td>enter</td>\n",
       "      <td>b5020</td>\n",
       "      <td>diagnosis</td>\n",
       "      <td></td>\n",
       "      <td>mobile</td>\n",
       "      <td>1</td>\n",
       "    </tr>\n",
       "    <tr>\n",
       "      <th>19</th>\n",
       "      <td>1565096499772</td>\n",
       "      <td>respond</td>\n",
       "      <td>q6488</td>\n",
       "      <td>diagnosis</td>\n",
       "      <td>a</td>\n",
       "      <td>mobile</td>\n",
       "      <td>1</td>\n",
       "    </tr>\n",
       "  </tbody>\n",
       "</table>\n",
       "</div>"
      ],
      "text/plain": [
       "        timestamp action_type item_id     source user_answer platform  user_id\n",
       "0   1565096151269       enter   b3544  diagnosis               mobile        1\n",
       "1   1565096187972     respond   q5012  diagnosis           b   mobile        1\n",
       "2   1565096194904      submit   b3544  diagnosis               mobile        1\n",
       "3   1565096195001       enter   b3238  diagnosis               mobile        1\n",
       "4   1565096218682     respond   q4706  diagnosis           c   mobile        1\n",
       "5   1565096223029      submit   b3238  diagnosis               mobile        1\n",
       "6   1565096223119       enter   b2898  diagnosis               mobile        1\n",
       "7   1565096290094     respond   q4366  diagnosis           b   mobile        1\n",
       "8   1565096295925      submit   b2898  diagnosis               mobile        1\n",
       "9   1565096296012       enter   b3361  diagnosis               mobile        1\n",
       "10  1565096337361     respond   q4829  diagnosis           a   mobile        1\n",
       "11  1565096341309      submit   b3361  diagnosis               mobile        1\n",
       "12  1565096341395       enter   b5060  diagnosis               mobile        1\n",
       "13  1565096395328     respond   q6528  diagnosis           b   mobile        1\n",
       "14  1565096403465      submit   b5060  diagnosis               mobile        1\n",
       "15  1565096403559       enter   b3325  diagnosis               mobile        1\n",
       "16  1565096461374     respond   q4793  diagnosis           a   mobile        1\n",
       "17  1565096465406      submit   b3325  diagnosis               mobile        1\n",
       "18  1565096465497       enter   b5020  diagnosis               mobile        1\n",
       "19  1565096499772     respond   q6488  diagnosis           a   mobile        1"
      ]
     },
     "execution_count": 4,
     "metadata": {},
     "output_type": "execute_result"
    }
   ],
   "source": [
    "df.head(20)"
   ]
  },
  {
   "cell_type": "code",
   "execution_count": 5,
   "id": "tender-advocate",
   "metadata": {
    "execution": {
     "iopub.execute_input": "2021-05-09T04:37:15.638766Z",
     "iopub.status.busy": "2021-05-09T04:37:15.637179Z",
     "iopub.status.idle": "2021-05-09T04:37:15.639587Z",
     "shell.execute_reply": "2021-05-09T04:37:15.640027Z"
    },
    "papermill": {
     "duration": 0.032943,
     "end_time": "2021-05-09T04:37:15.640175",
     "exception": false,
     "start_time": "2021-05-09T04:37:15.607232",
     "status": "completed"
    },
    "tags": []
   },
   "outputs": [],
   "source": [
    "# questions_df[['first_correct', 'avg_attempts', 'final_correct', 'time_spend']] = pd.DataFrame([[0, 0, 0, 0]], index=questions_df.index)"
   ]
  },
  {
   "cell_type": "code",
   "execution_count": 6,
   "id": "ultimate-speech",
   "metadata": {
    "execution": {
     "iopub.execute_input": "2021-05-09T04:37:15.708170Z",
     "iopub.status.busy": "2021-05-09T04:37:15.707611Z",
     "iopub.status.idle": "2021-05-09T04:37:15.713257Z",
     "shell.execute_reply": "2021-05-09T04:37:15.712817Z"
    },
    "papermill": {
     "duration": 0.046869,
     "end_time": "2021-05-09T04:37:15.713389",
     "exception": false,
     "start_time": "2021-05-09T04:37:15.666520",
     "status": "completed"
    },
    "tags": []
   },
   "outputs": [
    {
     "data": {
      "text/html": [
       "<div>\n",
       "<style scoped>\n",
       "    .dataframe tbody tr th:only-of-type {\n",
       "        vertical-align: middle;\n",
       "    }\n",
       "\n",
       "    .dataframe tbody tr th {\n",
       "        vertical-align: top;\n",
       "    }\n",
       "\n",
       "    .dataframe thead th {\n",
       "        text-align: right;\n",
       "    }\n",
       "</style>\n",
       "<table border=\"1\" class=\"dataframe\">\n",
       "  <thead>\n",
       "    <tr style=\"text-align: right;\">\n",
       "      <th></th>\n",
       "      <th>question_id</th>\n",
       "      <th>bundle_id</th>\n",
       "      <th>explanation_id</th>\n",
       "      <th>correct_answer</th>\n",
       "      <th>part</th>\n",
       "      <th>tags</th>\n",
       "      <th>deployed_at</th>\n",
       "    </tr>\n",
       "  </thead>\n",
       "  <tbody>\n",
       "    <tr>\n",
       "      <th>0</th>\n",
       "      <td>q1</td>\n",
       "      <td>b1</td>\n",
       "      <td>e1</td>\n",
       "      <td>b</td>\n",
       "      <td>1</td>\n",
       "      <td>1;2;179;181</td>\n",
       "      <td>1558093217098</td>\n",
       "    </tr>\n",
       "    <tr>\n",
       "      <th>1</th>\n",
       "      <td>q2</td>\n",
       "      <td>b2</td>\n",
       "      <td>e2</td>\n",
       "      <td>a</td>\n",
       "      <td>1</td>\n",
       "      <td>15;2;182</td>\n",
       "      <td>1558093219720</td>\n",
       "    </tr>\n",
       "    <tr>\n",
       "      <th>2</th>\n",
       "      <td>q3</td>\n",
       "      <td>b3</td>\n",
       "      <td>e3</td>\n",
       "      <td>b</td>\n",
       "      <td>1</td>\n",
       "      <td>14;2;179;183</td>\n",
       "      <td>1558093222784</td>\n",
       "    </tr>\n",
       "    <tr>\n",
       "      <th>3</th>\n",
       "      <td>q4</td>\n",
       "      <td>b4</td>\n",
       "      <td>e4</td>\n",
       "      <td>b</td>\n",
       "      <td>1</td>\n",
       "      <td>9;2;179;184</td>\n",
       "      <td>1558093225357</td>\n",
       "    </tr>\n",
       "    <tr>\n",
       "      <th>4</th>\n",
       "      <td>q5</td>\n",
       "      <td>b5</td>\n",
       "      <td>e5</td>\n",
       "      <td>c</td>\n",
       "      <td>1</td>\n",
       "      <td>8;2;179;181</td>\n",
       "      <td>1558093228439</td>\n",
       "    </tr>\n",
       "  </tbody>\n",
       "</table>\n",
       "</div>"
      ],
      "text/plain": [
       "  question_id bundle_id explanation_id correct_answer  part          tags  \\\n",
       "0          q1        b1             e1              b     1   1;2;179;181   \n",
       "1          q2        b2             e2              a     1      15;2;182   \n",
       "2          q3        b3             e3              b     1  14;2;179;183   \n",
       "3          q4        b4             e4              b     1   9;2;179;184   \n",
       "4          q5        b5             e5              c     1   8;2;179;181   \n",
       "\n",
       "     deployed_at  \n",
       "0  1558093217098  \n",
       "1  1558093219720  \n",
       "2  1558093222784  \n",
       "3  1558093225357  \n",
       "4  1558093228439  "
      ]
     },
     "execution_count": 6,
     "metadata": {},
     "output_type": "execute_result"
    }
   ],
   "source": [
    "questions_df.head()"
   ]
  },
  {
   "cell_type": "code",
   "execution_count": 7,
   "id": "consolidated-occupation",
   "metadata": {
    "execution": {
     "iopub.execute_input": "2021-05-09T04:37:17.134105Z",
     "iopub.status.busy": "2021-05-09T04:37:17.133451Z",
     "iopub.status.idle": "2021-05-09T04:37:20.536103Z",
     "shell.execute_reply": "2021-05-09T04:37:20.535599Z"
    },
    "papermill": {
     "duration": 4.795706,
     "end_time": "2021-05-09T04:37:20.536238",
     "exception": false,
     "start_time": "2021-05-09T04:37:15.740532",
     "status": "completed"
    },
    "tags": []
   },
   "outputs": [
    {
     "data": {
      "text/plain": [
       "array(['enter', 'respond', 'submit', 'quit'], dtype=object)"
      ]
     },
     "execution_count": 7,
     "metadata": {},
     "output_type": "execute_result"
    }
   ],
   "source": [
    "df['action_type'].unique()"
   ]
  },
  {
   "cell_type": "code",
   "execution_count": 8,
   "id": "assured-worthy",
   "metadata": {
    "execution": {
     "iopub.execute_input": "2021-05-09T04:37:25.879263Z",
     "iopub.status.busy": "2021-05-09T04:37:25.878149Z",
     "iopub.status.idle": "2021-05-09T04:37:29.847369Z",
     "shell.execute_reply": "2021-05-09T04:37:29.847758Z"
    },
    "papermill": {
     "duration": 9.282726,
     "end_time": "2021-05-09T04:37:29.847940",
     "exception": false,
     "start_time": "2021-05-09T04:37:20.565214",
     "status": "completed"
    },
    "tags": []
   },
   "outputs": [
    {
     "data": {
      "text/plain": [
       "array(['diagnosis', 'sprint', 'adaptive_offer', 'tutor', 'review_quiz',\n",
       "       'my_note', 'review'], dtype=object)"
      ]
     },
     "execution_count": 8,
     "metadata": {},
     "output_type": "execute_result"
    }
   ],
   "source": [
    "df[df['action_type']=='respond']['source'].unique()"
   ]
  },
  {
   "cell_type": "code",
   "execution_count": 9,
   "id": "partial-geneva",
   "metadata": {
    "execution": {
     "iopub.execute_input": "2021-05-09T04:37:29.907985Z",
     "iopub.status.busy": "2021-05-09T04:37:29.907095Z",
     "iopub.status.idle": "2021-05-09T04:37:46.929388Z",
     "shell.execute_reply": "2021-05-09T04:37:46.928424Z"
    },
    "papermill": {
     "duration": 17.053662,
     "end_time": "2021-05-09T04:37:46.929526",
     "exception": false,
     "start_time": "2021-05-09T04:37:29.875864",
     "status": "completed"
    },
    "tags": []
   },
   "outputs": [],
   "source": [
    "answers_dict = {q: questions_df[questions_df['question_id']==q]['correct_answer'].to_numpy()[0]\n",
    "               for q in questions_df['question_id']}"
   ]
  },
  {
   "cell_type": "code",
   "execution_count": 10,
   "id": "regular-valve",
   "metadata": {
    "execution": {
     "iopub.execute_input": "2021-05-09T04:37:52.256801Z",
     "iopub.status.busy": "2021-05-09T04:37:52.255978Z",
     "iopub.status.idle": "2021-05-09T04:37:54.319846Z",
     "shell.execute_reply": "2021-05-09T04:37:54.319298Z"
    },
    "papermill": {
     "duration": 7.362433,
     "end_time": "2021-05-09T04:37:54.320006",
     "exception": false,
     "start_time": "2021-05-09T04:37:46.957573",
     "status": "completed"
    },
    "tags": []
   },
   "outputs": [],
   "source": [
    "df_respond = df[df['action_type']=='respond']"
   ]
  },
  {
   "cell_type": "code",
   "execution_count": 11,
   "id": "metallic-drill",
   "metadata": {
    "execution": {
     "iopub.execute_input": "2021-05-09T04:37:57.237284Z",
     "iopub.status.busy": "2021-05-09T04:37:55.148864Z",
     "iopub.status.idle": "2021-05-09T04:37:59.357725Z",
     "shell.execute_reply": "2021-05-09T04:37:59.358205Z"
    },
    "papermill": {
     "duration": 5.010093,
     "end_time": "2021-05-09T04:37:59.358382",
     "exception": false,
     "start_time": "2021-05-09T04:37:54.348289",
     "status": "completed"
    },
    "tags": []
   },
   "outputs": [
    {
     "name": "stderr",
     "output_type": "stream",
     "text": [
      "/opt/conda/lib/python3.7/site-packages/ipykernel_launcher.py:1: SettingWithCopyWarning: \n",
      "A value is trying to be set on a copy of a slice from a DataFrame.\n",
      "Try using .loc[row_indexer,col_indexer] = value instead\n",
      "\n",
      "See the caveats in the documentation: https://pandas.pydata.org/pandas-docs/stable/user_guide/indexing.html#returning-a-view-versus-a-copy\n",
      "  \"\"\"Entry point for launching an IPython kernel.\n",
      "/opt/conda/lib/python3.7/site-packages/ipykernel_launcher.py:2: SettingWithCopyWarning: \n",
      "A value is trying to be set on a copy of a slice from a DataFrame.\n",
      "Try using .loc[row_indexer,col_indexer] = value instead\n",
      "\n",
      "See the caveats in the documentation: https://pandas.pydata.org/pandas-docs/stable/user_guide/indexing.html#returning-a-view-versus-a-copy\n",
      "  \n"
     ]
    }
   ],
   "source": [
    "df_respond['correct_answer'] = df_respond['item_id'].map(answers_dict)\n",
    "df_respond['is_correct'] = np.where(df_respond['correct_answer']==df_respond['user_answer'], 1, 0)"
   ]
  },
  {
   "cell_type": "code",
   "execution_count": 12,
   "id": "nasty-ontario",
   "metadata": {
    "execution": {
     "iopub.execute_input": "2021-05-09T04:37:59.428377Z",
     "iopub.status.busy": "2021-05-09T04:37:59.427722Z",
     "iopub.status.idle": "2021-05-09T04:37:59.432230Z",
     "shell.execute_reply": "2021-05-09T04:37:59.431765Z"
    },
    "papermill": {
     "duration": 0.045467,
     "end_time": "2021-05-09T04:37:59.432361",
     "exception": false,
     "start_time": "2021-05-09T04:37:59.386894",
     "status": "completed"
    },
    "tags": []
   },
   "outputs": [
    {
     "data": {
      "text/html": [
       "<div>\n",
       "<style scoped>\n",
       "    .dataframe tbody tr th:only-of-type {\n",
       "        vertical-align: middle;\n",
       "    }\n",
       "\n",
       "    .dataframe tbody tr th {\n",
       "        vertical-align: top;\n",
       "    }\n",
       "\n",
       "    .dataframe thead th {\n",
       "        text-align: right;\n",
       "    }\n",
       "</style>\n",
       "<table border=\"1\" class=\"dataframe\">\n",
       "  <thead>\n",
       "    <tr style=\"text-align: right;\">\n",
       "      <th></th>\n",
       "      <th>timestamp</th>\n",
       "      <th>action_type</th>\n",
       "      <th>item_id</th>\n",
       "      <th>source</th>\n",
       "      <th>user_answer</th>\n",
       "      <th>platform</th>\n",
       "      <th>user_id</th>\n",
       "      <th>correct_answer</th>\n",
       "      <th>is_correct</th>\n",
       "    </tr>\n",
       "  </thead>\n",
       "  <tbody>\n",
       "    <tr>\n",
       "      <th>1</th>\n",
       "      <td>1565096187972</td>\n",
       "      <td>respond</td>\n",
       "      <td>q5012</td>\n",
       "      <td>diagnosis</td>\n",
       "      <td>b</td>\n",
       "      <td>mobile</td>\n",
       "      <td>1</td>\n",
       "      <td>c</td>\n",
       "      <td>0</td>\n",
       "    </tr>\n",
       "    <tr>\n",
       "      <th>4</th>\n",
       "      <td>1565096218682</td>\n",
       "      <td>respond</td>\n",
       "      <td>q4706</td>\n",
       "      <td>diagnosis</td>\n",
       "      <td>c</td>\n",
       "      <td>mobile</td>\n",
       "      <td>1</td>\n",
       "      <td>c</td>\n",
       "      <td>1</td>\n",
       "    </tr>\n",
       "    <tr>\n",
       "      <th>7</th>\n",
       "      <td>1565096290094</td>\n",
       "      <td>respond</td>\n",
       "      <td>q4366</td>\n",
       "      <td>diagnosis</td>\n",
       "      <td>b</td>\n",
       "      <td>mobile</td>\n",
       "      <td>1</td>\n",
       "      <td>b</td>\n",
       "      <td>1</td>\n",
       "    </tr>\n",
       "    <tr>\n",
       "      <th>10</th>\n",
       "      <td>1565096337361</td>\n",
       "      <td>respond</td>\n",
       "      <td>q4829</td>\n",
       "      <td>diagnosis</td>\n",
       "      <td>a</td>\n",
       "      <td>mobile</td>\n",
       "      <td>1</td>\n",
       "      <td>c</td>\n",
       "      <td>0</td>\n",
       "    </tr>\n",
       "    <tr>\n",
       "      <th>13</th>\n",
       "      <td>1565096395328</td>\n",
       "      <td>respond</td>\n",
       "      <td>q6528</td>\n",
       "      <td>diagnosis</td>\n",
       "      <td>b</td>\n",
       "      <td>mobile</td>\n",
       "      <td>1</td>\n",
       "      <td>d</td>\n",
       "      <td>0</td>\n",
       "    </tr>\n",
       "  </tbody>\n",
       "</table>\n",
       "</div>"
      ],
      "text/plain": [
       "        timestamp action_type item_id     source user_answer platform  \\\n",
       "1   1565096187972     respond   q5012  diagnosis           b   mobile   \n",
       "4   1565096218682     respond   q4706  diagnosis           c   mobile   \n",
       "7   1565096290094     respond   q4366  diagnosis           b   mobile   \n",
       "10  1565096337361     respond   q4829  diagnosis           a   mobile   \n",
       "13  1565096395328     respond   q6528  diagnosis           b   mobile   \n",
       "\n",
       "    user_id correct_answer  is_correct  \n",
       "1         1              c           0  \n",
       "4         1              c           1  \n",
       "7         1              b           1  \n",
       "10        1              c           0  \n",
       "13        1              d           0  "
      ]
     },
     "execution_count": 12,
     "metadata": {},
     "output_type": "execute_result"
    }
   ],
   "source": [
    "df_respond.head()"
   ]
  },
  {
   "cell_type": "code",
   "execution_count": 13,
   "id": "entertaining-summary",
   "metadata": {
    "execution": {
     "iopub.execute_input": "2021-05-09T04:37:59.494171Z",
     "iopub.status.busy": "2021-05-09T04:37:59.493620Z",
     "iopub.status.idle": "2021-05-09T04:37:59.496655Z",
     "shell.execute_reply": "2021-05-09T04:37:59.496089Z"
    },
    "papermill": {
     "duration": 0.035548,
     "end_time": "2021-05-09T04:37:59.496774",
     "exception": false,
     "start_time": "2021-05-09T04:37:59.461226",
     "status": "completed"
    },
    "tags": []
   },
   "outputs": [],
   "source": [
    "del answers_dict"
   ]
  },
  {
   "cell_type": "markdown",
   "id": "likely-conflict",
   "metadata": {
    "papermill": {
     "duration": 0.028421,
     "end_time": "2021-05-09T04:37:59.554198",
     "exception": false,
     "start_time": "2021-05-09T04:37:59.525777",
     "status": "completed"
    },
    "tags": []
   },
   "source": [
    "## Final correct respond"
   ]
  },
  {
   "cell_type": "code",
   "execution_count": 14,
   "id": "least-polish",
   "metadata": {
    "execution": {
     "iopub.execute_input": "2021-05-09T04:37:59.995971Z",
     "iopub.status.busy": "2021-05-09T04:37:59.994949Z",
     "iopub.status.idle": "2021-05-09T04:38:10.511203Z",
     "shell.execute_reply": "2021-05-09T04:38:10.511884Z"
    },
    "papermill": {
     "duration": 10.929142,
     "end_time": "2021-05-09T04:38:10.512088",
     "exception": false,
     "start_time": "2021-05-09T04:37:59.582946",
     "status": "completed"
    },
    "tags": []
   },
   "outputs": [
    {
     "name": "stdout",
     "output_type": "stream",
     "text": [
      "(23384480, 9) (16018708, 9)\n"
     ]
    }
   ],
   "source": [
    "df_final_respond = df_respond.drop_duplicates(subset=['user_id', 'item_id'], keep='last')\n",
    "print(df_respond.shape, df_final_respond.shape)"
   ]
  },
  {
   "cell_type": "code",
   "execution_count": 15,
   "id": "sophisticated-placement",
   "metadata": {
    "execution": {
     "iopub.execute_input": "2021-05-09T04:38:10.581181Z",
     "iopub.status.busy": "2021-05-09T04:38:10.580081Z",
     "iopub.status.idle": "2021-05-09T04:38:12.106797Z",
     "shell.execute_reply": "2021-05-09T04:38:12.105891Z"
    },
    "papermill": {
     "duration": 1.563011,
     "end_time": "2021-05-09T04:38:12.106957",
     "exception": false,
     "start_time": "2021-05-09T04:38:10.543946",
     "status": "completed"
    },
    "tags": []
   },
   "outputs": [
    {
     "data": {
      "text/plain": [
       "<AxesSubplot:xlabel='is_correct', ylabel='count'>"
      ]
     },
     "execution_count": 15,
     "metadata": {},
     "output_type": "execute_result"
    },
    {
     "data": {
      "image/png": "[encoded data removed]",
      "text/plain": [
       "<Figure size 432x288 with 1 Axes>"
      ]
     },
     "metadata": {
      "needs_background": "light"
     },
     "output_type": "display_data"
    }
   ],
   "source": [
    "sns.countplot(x='is_correct', data=df_final_respond)"
   ]
  },
  {
   "cell_type": "code",
   "execution_count": 16,
   "id": "wound-mandate",
   "metadata": {
    "execution": {
     "iopub.execute_input": "2021-05-09T04:38:12.171813Z",
     "iopub.status.busy": "2021-05-09T04:38:12.171016Z",
     "iopub.status.idle": "2021-05-09T04:38:13.164002Z",
     "shell.execute_reply": "2021-05-09T04:38:13.163378Z"
    },
    "papermill": {
     "duration": 1.027054,
     "end_time": "2021-05-09T04:38:13.164137",
     "exception": false,
     "start_time": "2021-05-09T04:38:12.137083",
     "status": "completed"
    },
    "tags": []
   },
   "outputs": [],
   "source": [
    "df_final_correct = df_final_respond[df_final_respond['is_correct']==1]"
   ]
  },
  {
   "cell_type": "code",
   "execution_count": 17,
   "id": "roman-warner",
   "metadata": {
    "execution": {
     "iopub.execute_input": "2021-05-09T04:38:14.445577Z",
     "iopub.status.busy": "2021-05-09T04:38:14.444514Z",
     "iopub.status.idle": "2021-05-09T04:38:14.455634Z",
     "shell.execute_reply": "2021-05-09T04:38:14.455183Z"
    },
    "papermill": {
     "duration": 1.261214,
     "end_time": "2021-05-09T04:38:14.455776",
     "exception": false,
     "start_time": "2021-05-09T04:38:13.194562",
     "status": "completed"
    },
    "tags": []
   },
   "outputs": [],
   "source": [
    "questions_df['final_correct'] = questions_df['question_id'].map(df_final_correct['item_id'].value_counts())"
   ]
  },
  {
   "cell_type": "code",
   "execution_count": 18,
   "id": "musical-product",
   "metadata": {
    "execution": {
     "iopub.execute_input": "2021-05-09T04:38:14.529865Z",
     "iopub.status.busy": "2021-05-09T04:38:14.529132Z",
     "iopub.status.idle": "2021-05-09T04:38:14.532157Z",
     "shell.execute_reply": "2021-05-09T04:38:14.532579Z"
    },
    "papermill": {
     "duration": 0.046326,
     "end_time": "2021-05-09T04:38:14.532737",
     "exception": false,
     "start_time": "2021-05-09T04:38:14.486411",
     "status": "completed"
    },
    "tags": []
   },
   "outputs": [
    {
     "data": {
      "text/html": [
       "<div>\n",
       "<style scoped>\n",
       "    .dataframe tbody tr th:only-of-type {\n",
       "        vertical-align: middle;\n",
       "    }\n",
       "\n",
       "    .dataframe tbody tr th {\n",
       "        vertical-align: top;\n",
       "    }\n",
       "\n",
       "    .dataframe thead th {\n",
       "        text-align: right;\n",
       "    }\n",
       "</style>\n",
       "<table border=\"1\" class=\"dataframe\">\n",
       "  <thead>\n",
       "    <tr style=\"text-align: right;\">\n",
       "      <th></th>\n",
       "      <th>question_id</th>\n",
       "      <th>bundle_id</th>\n",
       "      <th>explanation_id</th>\n",
       "      <th>correct_answer</th>\n",
       "      <th>part</th>\n",
       "      <th>tags</th>\n",
       "      <th>deployed_at</th>\n",
       "      <th>final_correct</th>\n",
       "    </tr>\n",
       "  </thead>\n",
       "  <tbody>\n",
       "    <tr>\n",
       "      <th>0</th>\n",
       "      <td>q1</td>\n",
       "      <td>b1</td>\n",
       "      <td>e1</td>\n",
       "      <td>b</td>\n",
       "      <td>1</td>\n",
       "      <td>1;2;179;181</td>\n",
       "      <td>1558093217098</td>\n",
       "      <td>1363.0</td>\n",
       "    </tr>\n",
       "    <tr>\n",
       "      <th>1</th>\n",
       "      <td>q2</td>\n",
       "      <td>b2</td>\n",
       "      <td>e2</td>\n",
       "      <td>a</td>\n",
       "      <td>1</td>\n",
       "      <td>15;2;182</td>\n",
       "      <td>1558093219720</td>\n",
       "      <td>1251.0</td>\n",
       "    </tr>\n",
       "    <tr>\n",
       "      <th>2</th>\n",
       "      <td>q3</td>\n",
       "      <td>b3</td>\n",
       "      <td>e3</td>\n",
       "      <td>b</td>\n",
       "      <td>1</td>\n",
       "      <td>14;2;179;183</td>\n",
       "      <td>1558093222784</td>\n",
       "      <td>7179.0</td>\n",
       "    </tr>\n",
       "    <tr>\n",
       "      <th>3</th>\n",
       "      <td>q4</td>\n",
       "      <td>b4</td>\n",
       "      <td>e4</td>\n",
       "      <td>b</td>\n",
       "      <td>1</td>\n",
       "      <td>9;2;179;184</td>\n",
       "      <td>1558093225357</td>\n",
       "      <td>3709.0</td>\n",
       "    </tr>\n",
       "    <tr>\n",
       "      <th>4</th>\n",
       "      <td>q5</td>\n",
       "      <td>b5</td>\n",
       "      <td>e5</td>\n",
       "      <td>c</td>\n",
       "      <td>1</td>\n",
       "      <td>8;2;179;181</td>\n",
       "      <td>1558093228439</td>\n",
       "      <td>2245.0</td>\n",
       "    </tr>\n",
       "  </tbody>\n",
       "</table>\n",
       "</div>"
      ],
      "text/plain": [
       "  question_id bundle_id explanation_id correct_answer  part          tags  \\\n",
       "0          q1        b1             e1              b     1   1;2;179;181   \n",
       "1          q2        b2             e2              a     1      15;2;182   \n",
       "2          q3        b3             e3              b     1  14;2;179;183   \n",
       "3          q4        b4             e4              b     1   9;2;179;184   \n",
       "4          q5        b5             e5              c     1   8;2;179;181   \n",
       "\n",
       "     deployed_at  final_correct  \n",
       "0  1558093217098         1363.0  \n",
       "1  1558093219720         1251.0  \n",
       "2  1558093222784         7179.0  \n",
       "3  1558093225357         3709.0  \n",
       "4  1558093228439         2245.0  "
      ]
     },
     "execution_count": 18,
     "metadata": {},
     "output_type": "execute_result"
    }
   ],
   "source": [
    "questions_df.head()"
   ]
  },
  {
   "cell_type": "markdown",
   "id": "destroyed-expert",
   "metadata": {
    "papermill": {
     "duration": 0.030648,
     "end_time": "2021-05-09T04:38:14.594339",
     "exception": false,
     "start_time": "2021-05-09T04:38:14.563691",
     "status": "completed"
    },
    "tags": []
   },
   "source": [
    "## No. of users trying each question"
   ]
  },
  {
   "cell_type": "code",
   "execution_count": 19,
   "id": "critical-sculpture",
   "metadata": {
    "execution": {
     "iopub.execute_input": "2021-05-09T04:38:14.658816Z",
     "iopub.status.busy": "2021-05-09T04:38:14.658222Z",
     "iopub.status.idle": "2021-05-09T04:38:21.153880Z",
     "shell.execute_reply": "2021-05-09T04:38:21.153326Z"
    },
    "papermill": {
     "duration": 6.528889,
     "end_time": "2021-05-09T04:38:21.154031",
     "exception": false,
     "start_time": "2021-05-09T04:38:14.625142",
     "status": "completed"
    },
    "tags": []
   },
   "outputs": [
    {
     "data": {
      "text/plain": [
       "item_id\n",
       "q1        1530\n",
       "q10       7964\n",
       "q100      2155\n",
       "q1000     6340\n",
       "q10000     828\n",
       "Name: user_id, dtype: int64"
      ]
     },
     "execution_count": 19,
     "metadata": {},
     "output_type": "execute_result"
    }
   ],
   "source": [
    "users_per_question = df_respond.groupby('item_id')['user_id'].unique().apply(lambda x: len(x))\n",
    "users_per_question.head()"
   ]
  },
  {
   "cell_type": "code",
   "execution_count": 20,
   "id": "fifty-caribbean",
   "metadata": {
    "execution": {
     "iopub.execute_input": "2021-05-09T04:38:21.226323Z",
     "iopub.status.busy": "2021-05-09T04:38:21.225502Z",
     "iopub.status.idle": "2021-05-09T04:38:21.230022Z",
     "shell.execute_reply": "2021-05-09T04:38:21.229426Z"
    },
    "papermill": {
     "duration": 0.044089,
     "end_time": "2021-05-09T04:38:21.230159",
     "exception": false,
     "start_time": "2021-05-09T04:38:21.186070",
     "status": "completed"
    },
    "tags": []
   },
   "outputs": [],
   "source": [
    "questions_df['num_users'] = questions_df['question_id'].map(users_per_question)"
   ]
  },
  {
   "cell_type": "code",
   "execution_count": 21,
   "id": "ongoing-popularity",
   "metadata": {
    "execution": {
     "iopub.execute_input": "2021-05-09T04:38:21.308367Z",
     "iopub.status.busy": "2021-05-09T04:38:21.303890Z",
     "iopub.status.idle": "2021-05-09T04:38:21.312719Z",
     "shell.execute_reply": "2021-05-09T04:38:21.312220Z"
    },
    "papermill": {
     "duration": 0.04968,
     "end_time": "2021-05-09T04:38:21.312844",
     "exception": false,
     "start_time": "2021-05-09T04:38:21.263164",
     "status": "completed"
    },
    "tags": []
   },
   "outputs": [
    {
     "data": {
      "text/html": [
       "<div>\n",
       "<style scoped>\n",
       "    .dataframe tbody tr th:only-of-type {\n",
       "        vertical-align: middle;\n",
       "    }\n",
       "\n",
       "    .dataframe tbody tr th {\n",
       "        vertical-align: top;\n",
       "    }\n",
       "\n",
       "    .dataframe thead th {\n",
       "        text-align: right;\n",
       "    }\n",
       "</style>\n",
       "<table border=\"1\" class=\"dataframe\">\n",
       "  <thead>\n",
       "    <tr style=\"text-align: right;\">\n",
       "      <th></th>\n",
       "      <th>question_id</th>\n",
       "      <th>bundle_id</th>\n",
       "      <th>explanation_id</th>\n",
       "      <th>correct_answer</th>\n",
       "      <th>part</th>\n",
       "      <th>tags</th>\n",
       "      <th>deployed_at</th>\n",
       "      <th>final_correct</th>\n",
       "      <th>num_users</th>\n",
       "    </tr>\n",
       "  </thead>\n",
       "  <tbody>\n",
       "    <tr>\n",
       "      <th>0</th>\n",
       "      <td>q1</td>\n",
       "      <td>b1</td>\n",
       "      <td>e1</td>\n",
       "      <td>b</td>\n",
       "      <td>1</td>\n",
       "      <td>1;2;179;181</td>\n",
       "      <td>1558093217098</td>\n",
       "      <td>1363.0</td>\n",
       "      <td>1530.0</td>\n",
       "    </tr>\n",
       "    <tr>\n",
       "      <th>1</th>\n",
       "      <td>q2</td>\n",
       "      <td>b2</td>\n",
       "      <td>e2</td>\n",
       "      <td>a</td>\n",
       "      <td>1</td>\n",
       "      <td>15;2;182</td>\n",
       "      <td>1558093219720</td>\n",
       "      <td>1251.0</td>\n",
       "      <td>1437.0</td>\n",
       "    </tr>\n",
       "    <tr>\n",
       "      <th>2</th>\n",
       "      <td>q3</td>\n",
       "      <td>b3</td>\n",
       "      <td>e3</td>\n",
       "      <td>b</td>\n",
       "      <td>1</td>\n",
       "      <td>14;2;179;183</td>\n",
       "      <td>1558093222784</td>\n",
       "      <td>7179.0</td>\n",
       "      <td>12727.0</td>\n",
       "    </tr>\n",
       "    <tr>\n",
       "      <th>3</th>\n",
       "      <td>q4</td>\n",
       "      <td>b4</td>\n",
       "      <td>e4</td>\n",
       "      <td>b</td>\n",
       "      <td>1</td>\n",
       "      <td>9;2;179;184</td>\n",
       "      <td>1558093225357</td>\n",
       "      <td>3709.0</td>\n",
       "      <td>4738.0</td>\n",
       "    </tr>\n",
       "    <tr>\n",
       "      <th>4</th>\n",
       "      <td>q5</td>\n",
       "      <td>b5</td>\n",
       "      <td>e5</td>\n",
       "      <td>c</td>\n",
       "      <td>1</td>\n",
       "      <td>8;2;179;181</td>\n",
       "      <td>1558093228439</td>\n",
       "      <td>2245.0</td>\n",
       "      <td>3317.0</td>\n",
       "    </tr>\n",
       "  </tbody>\n",
       "</table>\n",
       "</div>"
      ],
      "text/plain": [
       "  question_id bundle_id explanation_id correct_answer  part          tags  \\\n",
       "0          q1        b1             e1              b     1   1;2;179;181   \n",
       "1          q2        b2             e2              a     1      15;2;182   \n",
       "2          q3        b3             e3              b     1  14;2;179;183   \n",
       "3          q4        b4             e4              b     1   9;2;179;184   \n",
       "4          q5        b5             e5              c     1   8;2;179;181   \n",
       "\n",
       "     deployed_at  final_correct  num_users  \n",
       "0  1558093217098         1363.0     1530.0  \n",
       "1  1558093219720         1251.0     1437.0  \n",
       "2  1558093222784         7179.0    12727.0  \n",
       "3  1558093225357         3709.0     4738.0  \n",
       "4  1558093228439         2245.0     3317.0  "
      ]
     },
     "execution_count": 21,
     "metadata": {},
     "output_type": "execute_result"
    }
   ],
   "source": [
    "questions_df.head()"
   ]
  },
  {
   "cell_type": "markdown",
   "id": "foreign-nursing",
   "metadata": {
    "papermill": {
     "duration": 0.031852,
     "end_time": "2021-05-09T04:38:21.377096",
     "exception": false,
     "start_time": "2021-05-09T04:38:21.345244",
     "status": "completed"
    },
    "tags": []
   },
   "source": [
    "## Percentage of correct attempts"
   ]
  },
  {
   "cell_type": "code",
   "execution_count": 22,
   "id": "specified-giving",
   "metadata": {
    "execution": {
     "iopub.execute_input": "2021-05-09T04:38:21.443396Z",
     "iopub.status.busy": "2021-05-09T04:38:21.442844Z",
     "iopub.status.idle": "2021-05-09T04:38:21.459631Z",
     "shell.execute_reply": "2021-05-09T04:38:21.458980Z"
    },
    "papermill": {
     "duration": 0.050845,
     "end_time": "2021-05-09T04:38:21.459767",
     "exception": false,
     "start_time": "2021-05-09T04:38:21.408922",
     "status": "completed"
    },
    "tags": []
   },
   "outputs": [
    {
     "data": {
      "text/html": [
       "<div>\n",
       "<style scoped>\n",
       "    .dataframe tbody tr th:only-of-type {\n",
       "        vertical-align: middle;\n",
       "    }\n",
       "\n",
       "    .dataframe tbody tr th {\n",
       "        vertical-align: top;\n",
       "    }\n",
       "\n",
       "    .dataframe thead th {\n",
       "        text-align: right;\n",
       "    }\n",
       "</style>\n",
       "<table border=\"1\" class=\"dataframe\">\n",
       "  <thead>\n",
       "    <tr style=\"text-align: right;\">\n",
       "      <th></th>\n",
       "      <th>question_id</th>\n",
       "      <th>bundle_id</th>\n",
       "      <th>explanation_id</th>\n",
       "      <th>correct_answer</th>\n",
       "      <th>part</th>\n",
       "      <th>tags</th>\n",
       "      <th>deployed_at</th>\n",
       "      <th>final_correct</th>\n",
       "      <th>num_users</th>\n",
       "      <th>pct_correct</th>\n",
       "    </tr>\n",
       "  </thead>\n",
       "  <tbody>\n",
       "    <tr>\n",
       "      <th>0</th>\n",
       "      <td>q1</td>\n",
       "      <td>b1</td>\n",
       "      <td>e1</td>\n",
       "      <td>b</td>\n",
       "      <td>1</td>\n",
       "      <td>1;2;179;181</td>\n",
       "      <td>1558093217098</td>\n",
       "      <td>1363.0</td>\n",
       "      <td>1530.0</td>\n",
       "      <td>0.890850</td>\n",
       "    </tr>\n",
       "    <tr>\n",
       "      <th>1</th>\n",
       "      <td>q2</td>\n",
       "      <td>b2</td>\n",
       "      <td>e2</td>\n",
       "      <td>a</td>\n",
       "      <td>1</td>\n",
       "      <td>15;2;182</td>\n",
       "      <td>1558093219720</td>\n",
       "      <td>1251.0</td>\n",
       "      <td>1437.0</td>\n",
       "      <td>0.870564</td>\n",
       "    </tr>\n",
       "    <tr>\n",
       "      <th>2</th>\n",
       "      <td>q3</td>\n",
       "      <td>b3</td>\n",
       "      <td>e3</td>\n",
       "      <td>b</td>\n",
       "      <td>1</td>\n",
       "      <td>14;2;179;183</td>\n",
       "      <td>1558093222784</td>\n",
       "      <td>7179.0</td>\n",
       "      <td>12727.0</td>\n",
       "      <td>0.564076</td>\n",
       "    </tr>\n",
       "    <tr>\n",
       "      <th>3</th>\n",
       "      <td>q4</td>\n",
       "      <td>b4</td>\n",
       "      <td>e4</td>\n",
       "      <td>b</td>\n",
       "      <td>1</td>\n",
       "      <td>9;2;179;184</td>\n",
       "      <td>1558093225357</td>\n",
       "      <td>3709.0</td>\n",
       "      <td>4738.0</td>\n",
       "      <td>0.782820</td>\n",
       "    </tr>\n",
       "    <tr>\n",
       "      <th>4</th>\n",
       "      <td>q5</td>\n",
       "      <td>b5</td>\n",
       "      <td>e5</td>\n",
       "      <td>c</td>\n",
       "      <td>1</td>\n",
       "      <td>8;2;179;181</td>\n",
       "      <td>1558093228439</td>\n",
       "      <td>2245.0</td>\n",
       "      <td>3317.0</td>\n",
       "      <td>0.676816</td>\n",
       "    </tr>\n",
       "  </tbody>\n",
       "</table>\n",
       "</div>"
      ],
      "text/plain": [
       "  question_id bundle_id explanation_id correct_answer  part          tags  \\\n",
       "0          q1        b1             e1              b     1   1;2;179;181   \n",
       "1          q2        b2             e2              a     1      15;2;182   \n",
       "2          q3        b3             e3              b     1  14;2;179;183   \n",
       "3          q4        b4             e4              b     1   9;2;179;184   \n",
       "4          q5        b5             e5              c     1   8;2;179;181   \n",
       "\n",
       "     deployed_at  final_correct  num_users  pct_correct  \n",
       "0  1558093217098         1363.0     1530.0     0.890850  \n",
       "1  1558093219720         1251.0     1437.0     0.870564  \n",
       "2  1558093222784         7179.0    12727.0     0.564076  \n",
       "3  1558093225357         3709.0     4738.0     0.782820  \n",
       "4  1558093228439         2245.0     3317.0     0.676816  "
      ]
     },
     "execution_count": 22,
     "metadata": {},
     "output_type": "execute_result"
    }
   ],
   "source": [
    "questions_df['pct_correct'] = questions_df['final_correct'] / questions_df['num_users']\n",
    "questions_df.head()"
   ]
  },
  {
   "cell_type": "markdown",
   "id": "pressed-recommendation",
   "metadata": {
    "papermill": {
     "duration": 0.031921,
     "end_time": "2021-05-09T04:38:21.524632",
     "exception": false,
     "start_time": "2021-05-09T04:38:21.492711",
     "status": "completed"
    },
    "tags": []
   },
   "source": [
    "## Avg no. of attempts"
   ]
  },
  {
   "cell_type": "code",
   "execution_count": 23,
   "id": "powered-harvey",
   "metadata": {
    "execution": {
     "iopub.execute_input": "2021-05-09T04:38:24.105222Z",
     "iopub.status.busy": "2021-05-09T04:38:24.104632Z",
     "iopub.status.idle": "2021-05-09T04:38:24.120230Z",
     "shell.execute_reply": "2021-05-09T04:38:24.119622Z"
    },
    "papermill": {
     "duration": 2.563234,
     "end_time": "2021-05-09T04:38:24.120372",
     "exception": false,
     "start_time": "2021-05-09T04:38:21.557138",
     "status": "completed"
    },
    "tags": []
   },
   "outputs": [],
   "source": [
    "question_total_attempts = df_respond['item_id'].value_counts()"
   ]
  },
  {
   "cell_type": "code",
   "execution_count": 24,
   "id": "ethical-stockholm",
   "metadata": {
    "execution": {
     "iopub.execute_input": "2021-05-09T04:38:24.204103Z",
     "iopub.status.busy": "2021-05-09T04:38:24.199889Z",
     "iopub.status.idle": "2021-05-09T04:38:24.211248Z",
     "shell.execute_reply": "2021-05-09T04:38:24.210743Z"
    },
    "papermill": {
     "duration": 0.058327,
     "end_time": "2021-05-09T04:38:24.211375",
     "exception": false,
     "start_time": "2021-05-09T04:38:24.153048",
     "status": "completed"
    },
    "tags": []
   },
   "outputs": [],
   "source": [
    "questions_df['avg_attempts'] = questions_df['question_id'].map(question_total_attempts / users_per_question)"
   ]
  },
  {
   "cell_type": "code",
   "execution_count": 25,
   "id": "dominant-locking",
   "metadata": {
    "execution": {
     "iopub.execute_input": "2021-05-09T04:38:24.280669Z",
     "iopub.status.busy": "2021-05-09T04:38:24.280003Z",
     "iopub.status.idle": "2021-05-09T04:38:24.283071Z",
     "shell.execute_reply": "2021-05-09T04:38:24.282497Z"
    },
    "papermill": {
     "duration": 0.039368,
     "end_time": "2021-05-09T04:38:24.283195",
     "exception": false,
     "start_time": "2021-05-09T04:38:24.243827",
     "status": "completed"
    },
    "tags": []
   },
   "outputs": [],
   "source": [
    "del question_total_attempts"
   ]
  },
  {
   "cell_type": "code",
   "execution_count": 26,
   "id": "applicable-infrastructure",
   "metadata": {
    "execution": {
     "iopub.execute_input": "2021-05-09T04:38:24.352219Z",
     "iopub.status.busy": "2021-05-09T04:38:24.351355Z",
     "iopub.status.idle": "2021-05-09T04:38:24.365463Z",
     "shell.execute_reply": "2021-05-09T04:38:24.365843Z"
    },
    "papermill": {
     "duration": 0.049978,
     "end_time": "2021-05-09T04:38:24.366041",
     "exception": false,
     "start_time": "2021-05-09T04:38:24.316063",
     "status": "completed"
    },
    "tags": []
   },
   "outputs": [
    {
     "data": {
      "text/html": [
       "<div>\n",
       "<style scoped>\n",
       "    .dataframe tbody tr th:only-of-type {\n",
       "        vertical-align: middle;\n",
       "    }\n",
       "\n",
       "    .dataframe tbody tr th {\n",
       "        vertical-align: top;\n",
       "    }\n",
       "\n",
       "    .dataframe thead th {\n",
       "        text-align: right;\n",
       "    }\n",
       "</style>\n",
       "<table border=\"1\" class=\"dataframe\">\n",
       "  <thead>\n",
       "    <tr style=\"text-align: right;\">\n",
       "      <th></th>\n",
       "      <th>question_id</th>\n",
       "      <th>bundle_id</th>\n",
       "      <th>explanation_id</th>\n",
       "      <th>correct_answer</th>\n",
       "      <th>part</th>\n",
       "      <th>tags</th>\n",
       "      <th>deployed_at</th>\n",
       "      <th>final_correct</th>\n",
       "      <th>num_users</th>\n",
       "      <th>pct_correct</th>\n",
       "      <th>avg_attempts</th>\n",
       "    </tr>\n",
       "  </thead>\n",
       "  <tbody>\n",
       "    <tr>\n",
       "      <th>0</th>\n",
       "      <td>q1</td>\n",
       "      <td>b1</td>\n",
       "      <td>e1</td>\n",
       "      <td>b</td>\n",
       "      <td>1</td>\n",
       "      <td>1;2;179;181</td>\n",
       "      <td>1558093217098</td>\n",
       "      <td>1363.0</td>\n",
       "      <td>1530.0</td>\n",
       "      <td>0.890850</td>\n",
       "      <td>1.272549</td>\n",
       "    </tr>\n",
       "    <tr>\n",
       "      <th>1</th>\n",
       "      <td>q2</td>\n",
       "      <td>b2</td>\n",
       "      <td>e2</td>\n",
       "      <td>a</td>\n",
       "      <td>1</td>\n",
       "      <td>15;2;182</td>\n",
       "      <td>1558093219720</td>\n",
       "      <td>1251.0</td>\n",
       "      <td>1437.0</td>\n",
       "      <td>0.870564</td>\n",
       "      <td>1.231733</td>\n",
       "    </tr>\n",
       "    <tr>\n",
       "      <th>2</th>\n",
       "      <td>q3</td>\n",
       "      <td>b3</td>\n",
       "      <td>e3</td>\n",
       "      <td>b</td>\n",
       "      <td>1</td>\n",
       "      <td>14;2;179;183</td>\n",
       "      <td>1558093222784</td>\n",
       "      <td>7179.0</td>\n",
       "      <td>12727.0</td>\n",
       "      <td>0.564076</td>\n",
       "      <td>1.321835</td>\n",
       "    </tr>\n",
       "    <tr>\n",
       "      <th>3</th>\n",
       "      <td>q4</td>\n",
       "      <td>b4</td>\n",
       "      <td>e4</td>\n",
       "      <td>b</td>\n",
       "      <td>1</td>\n",
       "      <td>9;2;179;184</td>\n",
       "      <td>1558093225357</td>\n",
       "      <td>3709.0</td>\n",
       "      <td>4738.0</td>\n",
       "      <td>0.782820</td>\n",
       "      <td>1.359434</td>\n",
       "    </tr>\n",
       "    <tr>\n",
       "      <th>4</th>\n",
       "      <td>q5</td>\n",
       "      <td>b5</td>\n",
       "      <td>e5</td>\n",
       "      <td>c</td>\n",
       "      <td>1</td>\n",
       "      <td>8;2;179;181</td>\n",
       "      <td>1558093228439</td>\n",
       "      <td>2245.0</td>\n",
       "      <td>3317.0</td>\n",
       "      <td>0.676816</td>\n",
       "      <td>1.551100</td>\n",
       "    </tr>\n",
       "  </tbody>\n",
       "</table>\n",
       "</div>"
      ],
      "text/plain": [
       "  question_id bundle_id explanation_id correct_answer  part          tags  \\\n",
       "0          q1        b1             e1              b     1   1;2;179;181   \n",
       "1          q2        b2             e2              a     1      15;2;182   \n",
       "2          q3        b3             e3              b     1  14;2;179;183   \n",
       "3          q4        b4             e4              b     1   9;2;179;184   \n",
       "4          q5        b5             e5              c     1   8;2;179;181   \n",
       "\n",
       "     deployed_at  final_correct  num_users  pct_correct  avg_attempts  \n",
       "0  1558093217098         1363.0     1530.0     0.890850      1.272549  \n",
       "1  1558093219720         1251.0     1437.0     0.870564      1.231733  \n",
       "2  1558093222784         7179.0    12727.0     0.564076      1.321835  \n",
       "3  1558093225357         3709.0     4738.0     0.782820      1.359434  \n",
       "4  1558093228439         2245.0     3317.0     0.676816      1.551100  "
      ]
     },
     "execution_count": 26,
     "metadata": {},
     "output_type": "execute_result"
    }
   ],
   "source": [
    "questions_df.head()"
   ]
  },
  {
   "cell_type": "markdown",
   "id": "anticipated-academy",
   "metadata": {
    "papermill": {
     "duration": 0.032873,
     "end_time": "2021-05-09T04:38:24.431973",
     "exception": false,
     "start_time": "2021-05-09T04:38:24.399100",
     "status": "completed"
    },
    "tags": []
   },
   "source": [
    "## Percentage of correct at first time"
   ]
  },
  {
   "cell_type": "code",
   "execution_count": 27,
   "id": "multiple-complex",
   "metadata": {
    "execution": {
     "iopub.execute_input": "2021-05-09T04:38:24.501552Z",
     "iopub.status.busy": "2021-05-09T04:38:24.500663Z",
     "iopub.status.idle": "2021-05-09T04:38:33.442046Z",
     "shell.execute_reply": "2021-05-09T04:38:33.441547Z"
    },
    "papermill": {
     "duration": 8.977055,
     "end_time": "2021-05-09T04:38:33.442185",
     "exception": false,
     "start_time": "2021-05-09T04:38:24.465130",
     "status": "completed"
    },
    "tags": []
   },
   "outputs": [],
   "source": [
    "gb = df_respond.groupby('item_id')['user_id'].value_counts()"
   ]
  },
  {
   "cell_type": "code",
   "execution_count": 28,
   "id": "architectural-assist",
   "metadata": {
    "execution": {
     "iopub.execute_input": "2021-05-09T04:38:33.520615Z",
     "iopub.status.busy": "2021-05-09T04:38:33.519772Z",
     "iopub.status.idle": "2021-05-09T04:38:33.523930Z",
     "shell.execute_reply": "2021-05-09T04:38:33.523437Z"
    },
    "papermill": {
     "duration": 0.04838,
     "end_time": "2021-05-09T04:38:33.524064",
     "exception": false,
     "start_time": "2021-05-09T04:38:33.475684",
     "status": "completed"
    },
    "tags": []
   },
   "outputs": [
    {
     "data": {
      "text/plain": [
       "item_id  user_id\n",
       "q1       18337      10\n",
       "         382743     10\n",
       "         5769        9\n",
       "         8861        9\n",
       "         532070      9\n",
       "                    ..\n",
       "q9999    802044      1\n",
       "         806809      1\n",
       "         811293      1\n",
       "         821529      1\n",
       "         830211      1\n",
       "Name: user_id, Length: 16018708, dtype: int64"
      ]
     },
     "execution_count": 28,
     "metadata": {},
     "output_type": "execute_result"
    }
   ],
   "source": [
    "gb"
   ]
  },
  {
   "cell_type": "code",
   "execution_count": 29,
   "id": "identified-passing",
   "metadata": {
    "execution": {
     "iopub.execute_input": "2021-05-09T04:38:33.595600Z",
     "iopub.status.busy": "2021-05-09T04:38:33.594720Z",
     "iopub.status.idle": "2021-05-09T04:38:34.403849Z",
     "shell.execute_reply": "2021-05-09T04:38:34.404485Z"
    },
    "papermill": {
     "duration": 0.846555,
     "end_time": "2021-05-09T04:38:34.404652",
     "exception": false,
     "start_time": "2021-05-09T04:38:33.558097",
     "status": "completed"
    },
    "tags": []
   },
   "outputs": [
    {
     "data": {
      "text/html": [
       "<div>\n",
       "<style scoped>\n",
       "    .dataframe tbody tr th:only-of-type {\n",
       "        vertical-align: middle;\n",
       "    }\n",
       "\n",
       "    .dataframe tbody tr th {\n",
       "        vertical-align: top;\n",
       "    }\n",
       "\n",
       "    .dataframe thead th {\n",
       "        text-align: right;\n",
       "    }\n",
       "</style>\n",
       "<table border=\"1\" class=\"dataframe\">\n",
       "  <thead>\n",
       "    <tr style=\"text-align: right;\">\n",
       "      <th></th>\n",
       "      <th>item_id</th>\n",
       "      <th>user_id</th>\n",
       "      <th>count</th>\n",
       "    </tr>\n",
       "  </thead>\n",
       "  <tbody>\n",
       "    <tr>\n",
       "      <th>0</th>\n",
       "      <td>q1</td>\n",
       "      <td>98</td>\n",
       "      <td>1</td>\n",
       "    </tr>\n",
       "    <tr>\n",
       "      <th>1</th>\n",
       "      <td>q1</td>\n",
       "      <td>126</td>\n",
       "      <td>1</td>\n",
       "    </tr>\n",
       "    <tr>\n",
       "      <th>2</th>\n",
       "      <td>q1</td>\n",
       "      <td>154</td>\n",
       "      <td>1</td>\n",
       "    </tr>\n",
       "    <tr>\n",
       "      <th>3</th>\n",
       "      <td>q1</td>\n",
       "      <td>185</td>\n",
       "      <td>1</td>\n",
       "    </tr>\n",
       "    <tr>\n",
       "      <th>4</th>\n",
       "      <td>q1</td>\n",
       "      <td>196</td>\n",
       "      <td>1</td>\n",
       "    </tr>\n",
       "    <tr>\n",
       "      <th>...</th>\n",
       "      <td>...</td>\n",
       "      <td>...</td>\n",
       "      <td>...</td>\n",
       "    </tr>\n",
       "    <tr>\n",
       "      <th>12251410</th>\n",
       "      <td>q9999</td>\n",
       "      <td>802044</td>\n",
       "      <td>1</td>\n",
       "    </tr>\n",
       "    <tr>\n",
       "      <th>12251411</th>\n",
       "      <td>q9999</td>\n",
       "      <td>806809</td>\n",
       "      <td>1</td>\n",
       "    </tr>\n",
       "    <tr>\n",
       "      <th>12251412</th>\n",
       "      <td>q9999</td>\n",
       "      <td>811293</td>\n",
       "      <td>1</td>\n",
       "    </tr>\n",
       "    <tr>\n",
       "      <th>12251413</th>\n",
       "      <td>q9999</td>\n",
       "      <td>821529</td>\n",
       "      <td>1</td>\n",
       "    </tr>\n",
       "    <tr>\n",
       "      <th>12251414</th>\n",
       "      <td>q9999</td>\n",
       "      <td>830211</td>\n",
       "      <td>1</td>\n",
       "    </tr>\n",
       "  </tbody>\n",
       "</table>\n",
       "<p>12251415 rows × 3 columns</p>\n",
       "</div>"
      ],
      "text/plain": [
       "         item_id  user_id  count\n",
       "0             q1       98      1\n",
       "1             q1      126      1\n",
       "2             q1      154      1\n",
       "3             q1      185      1\n",
       "4             q1      196      1\n",
       "...          ...      ...    ...\n",
       "12251410   q9999   802044      1\n",
       "12251411   q9999   806809      1\n",
       "12251412   q9999   811293      1\n",
       "12251413   q9999   821529      1\n",
       "12251414   q9999   830211      1\n",
       "\n",
       "[12251415 rows x 3 columns]"
      ]
     },
     "execution_count": 29,
     "metadata": {},
     "output_type": "execute_result"
    }
   ],
   "source": [
    "# questions that have only-one attempts\n",
    "questions_with_one_att = gb[gb==1].reset_index(name='count')\n",
    "questions_with_one_att"
   ]
  },
  {
   "cell_type": "code",
   "execution_count": 30,
   "id": "intimate-slave",
   "metadata": {
    "execution": {
     "iopub.execute_input": "2021-05-09T04:38:34.478721Z",
     "iopub.status.busy": "2021-05-09T04:38:34.477800Z",
     "iopub.status.idle": "2021-05-09T04:38:35.431544Z",
     "shell.execute_reply": "2021-05-09T04:38:35.432054Z"
    },
    "papermill": {
     "duration": 0.992208,
     "end_time": "2021-05-09T04:38:35.432217",
     "exception": false,
     "start_time": "2021-05-09T04:38:34.440009",
     "status": "completed"
    },
    "tags": []
   },
   "outputs": [
    {
     "data": {
      "text/plain": [
       "q11262    25453\n",
       "q11259    25336\n",
       "q11249    25080\n",
       "q11261    25061\n",
       "q11263    24830\n",
       "          ...  \n",
       "q7927        24\n",
       "q50           1\n",
       "q5107         1\n",
       "q8664         1\n",
       "q8159         1\n",
       "Name: item_id, Length: 11555, dtype: int64"
      ]
     },
     "execution_count": 30,
     "metadata": {},
     "output_type": "execute_result"
    }
   ],
   "source": [
    "questions_with_one_att['item_id'].value_counts()"
   ]
  },
  {
   "cell_type": "code",
   "execution_count": 31,
   "id": "exciting-rendering",
   "metadata": {
    "execution": {
     "iopub.execute_input": "2021-05-09T04:38:35.504530Z",
     "iopub.status.busy": "2021-05-09T04:38:35.503640Z",
     "iopub.status.idle": "2021-05-09T04:38:54.429976Z",
     "shell.execute_reply": "2021-05-09T04:38:54.431765Z"
    },
    "papermill": {
     "duration": 18.966736,
     "end_time": "2021-05-09T04:38:54.433315",
     "exception": false,
     "start_time": "2021-05-09T04:38:35.466579",
     "status": "completed"
    },
    "tags": []
   },
   "outputs": [
    {
     "data": {
      "text/html": [
       "<div>\n",
       "<style scoped>\n",
       "    .dataframe tbody tr th:only-of-type {\n",
       "        vertical-align: middle;\n",
       "    }\n",
       "\n",
       "    .dataframe tbody tr th {\n",
       "        vertical-align: top;\n",
       "    }\n",
       "\n",
       "    .dataframe thead th {\n",
       "        text-align: right;\n",
       "    }\n",
       "</style>\n",
       "<table border=\"1\" class=\"dataframe\">\n",
       "  <thead>\n",
       "    <tr style=\"text-align: right;\">\n",
       "      <th></th>\n",
       "      <th>item_id</th>\n",
       "      <th>user_id</th>\n",
       "    </tr>\n",
       "  </thead>\n",
       "  <tbody>\n",
       "    <tr>\n",
       "      <th>0</th>\n",
       "      <td>q1</td>\n",
       "      <td>98</td>\n",
       "    </tr>\n",
       "    <tr>\n",
       "      <th>1</th>\n",
       "      <td>q1</td>\n",
       "      <td>185</td>\n",
       "    </tr>\n",
       "    <tr>\n",
       "      <th>2</th>\n",
       "      <td>q1</td>\n",
       "      <td>196</td>\n",
       "    </tr>\n",
       "    <tr>\n",
       "      <th>3</th>\n",
       "      <td>q1</td>\n",
       "      <td>198</td>\n",
       "    </tr>\n",
       "    <tr>\n",
       "      <th>4</th>\n",
       "      <td>q1</td>\n",
       "      <td>218</td>\n",
       "    </tr>\n",
       "    <tr>\n",
       "      <th>...</th>\n",
       "      <td>...</td>\n",
       "      <td>...</td>\n",
       "    </tr>\n",
       "    <tr>\n",
       "      <th>8364722</th>\n",
       "      <td>q9999</td>\n",
       "      <td>802044</td>\n",
       "    </tr>\n",
       "    <tr>\n",
       "      <th>8364723</th>\n",
       "      <td>q9999</td>\n",
       "      <td>806809</td>\n",
       "    </tr>\n",
       "    <tr>\n",
       "      <th>8364724</th>\n",
       "      <td>q9999</td>\n",
       "      <td>811293</td>\n",
       "    </tr>\n",
       "    <tr>\n",
       "      <th>8364725</th>\n",
       "      <td>q9999</td>\n",
       "      <td>821529</td>\n",
       "    </tr>\n",
       "    <tr>\n",
       "      <th>8364726</th>\n",
       "      <td>q9999</td>\n",
       "      <td>830211</td>\n",
       "    </tr>\n",
       "  </tbody>\n",
       "</table>\n",
       "<p>8364727 rows × 2 columns</p>\n",
       "</div>"
      ],
      "text/plain": [
       "        item_id  user_id\n",
       "0            q1       98\n",
       "1            q1      185\n",
       "2            q1      196\n",
       "3            q1      198\n",
       "4            q1      218\n",
       "...         ...      ...\n",
       "8364722   q9999   802044\n",
       "8364723   q9999   806809\n",
       "8364724   q9999   811293\n",
       "8364725   q9999   821529\n",
       "8364726   q9999   830211\n",
       "\n",
       "[8364727 rows x 2 columns]"
      ]
     },
     "execution_count": 31,
     "metadata": {},
     "output_type": "execute_result"
    }
   ],
   "source": [
    "one_correct = pd.merge(questions_with_one_att, df_final_correct, on=['item_id', 'user_id'], how='inner')[['item_id', 'user_id']]\n",
    "one_correct"
   ]
  },
  {
   "cell_type": "code",
   "execution_count": 32,
   "id": "prescription-senator",
   "metadata": {
    "execution": {
     "iopub.execute_input": "2021-05-09T04:38:54.740835Z",
     "iopub.status.busy": "2021-05-09T04:38:54.739411Z",
     "iopub.status.idle": "2021-05-09T04:38:55.495547Z",
     "shell.execute_reply": "2021-05-09T04:38:55.496010Z"
    },
    "papermill": {
     "duration": 0.923121,
     "end_time": "2021-05-09T04:38:55.496191",
     "exception": false,
     "start_time": "2021-05-09T04:38:54.573070",
     "status": "completed"
    },
    "tags": []
   },
   "outputs": [],
   "source": [
    "questions_df['correct_at_first'] = questions_df['question_id'].map(one_correct['item_id'].value_counts() / users_per_question)"
   ]
  },
  {
   "cell_type": "code",
   "execution_count": 33,
   "id": "valued-employer",
   "metadata": {
    "execution": {
     "iopub.execute_input": "2021-05-09T04:38:55.569446Z",
     "iopub.status.busy": "2021-05-09T04:38:55.568894Z",
     "iopub.status.idle": "2021-05-09T04:38:55.585717Z",
     "shell.execute_reply": "2021-05-09T04:38:55.586219Z"
    },
    "papermill": {
     "duration": 0.055108,
     "end_time": "2021-05-09T04:38:55.586376",
     "exception": false,
     "start_time": "2021-05-09T04:38:55.531268",
     "status": "completed"
    },
    "tags": []
   },
   "outputs": [
    {
     "data": {
      "text/html": [
       "<div>\n",
       "<style scoped>\n",
       "    .dataframe tbody tr th:only-of-type {\n",
       "        vertical-align: middle;\n",
       "    }\n",
       "\n",
       "    .dataframe tbody tr th {\n",
       "        vertical-align: top;\n",
       "    }\n",
       "\n",
       "    .dataframe thead th {\n",
       "        text-align: right;\n",
       "    }\n",
       "</style>\n",
       "<table border=\"1\" class=\"dataframe\">\n",
       "  <thead>\n",
       "    <tr style=\"text-align: right;\">\n",
       "      <th></th>\n",
       "      <th>question_id</th>\n",
       "      <th>bundle_id</th>\n",
       "      <th>explanation_id</th>\n",
       "      <th>correct_answer</th>\n",
       "      <th>part</th>\n",
       "      <th>tags</th>\n",
       "      <th>deployed_at</th>\n",
       "      <th>final_correct</th>\n",
       "      <th>num_users</th>\n",
       "      <th>pct_correct</th>\n",
       "      <th>avg_attempts</th>\n",
       "      <th>correct_at_first</th>\n",
       "    </tr>\n",
       "  </thead>\n",
       "  <tbody>\n",
       "    <tr>\n",
       "      <th>0</th>\n",
       "      <td>q1</td>\n",
       "      <td>b1</td>\n",
       "      <td>e1</td>\n",
       "      <td>b</td>\n",
       "      <td>1</td>\n",
       "      <td>1;2;179;181</td>\n",
       "      <td>1558093217098</td>\n",
       "      <td>1363.0</td>\n",
       "      <td>1530.0</td>\n",
       "      <td>0.890850</td>\n",
       "      <td>1.272549</td>\n",
       "      <td>0.735294</td>\n",
       "    </tr>\n",
       "    <tr>\n",
       "      <th>1</th>\n",
       "      <td>q2</td>\n",
       "      <td>b2</td>\n",
       "      <td>e2</td>\n",
       "      <td>a</td>\n",
       "      <td>1</td>\n",
       "      <td>15;2;182</td>\n",
       "      <td>1558093219720</td>\n",
       "      <td>1251.0</td>\n",
       "      <td>1437.0</td>\n",
       "      <td>0.870564</td>\n",
       "      <td>1.231733</td>\n",
       "      <td>0.730689</td>\n",
       "    </tr>\n",
       "    <tr>\n",
       "      <th>2</th>\n",
       "      <td>q3</td>\n",
       "      <td>b3</td>\n",
       "      <td>e3</td>\n",
       "      <td>b</td>\n",
       "      <td>1</td>\n",
       "      <td>14;2;179;183</td>\n",
       "      <td>1558093222784</td>\n",
       "      <td>7179.0</td>\n",
       "      <td>12727.0</td>\n",
       "      <td>0.564076</td>\n",
       "      <td>1.321835</td>\n",
       "      <td>0.433488</td>\n",
       "    </tr>\n",
       "    <tr>\n",
       "      <th>3</th>\n",
       "      <td>q4</td>\n",
       "      <td>b4</td>\n",
       "      <td>e4</td>\n",
       "      <td>b</td>\n",
       "      <td>1</td>\n",
       "      <td>9;2;179;184</td>\n",
       "      <td>1558093225357</td>\n",
       "      <td>3709.0</td>\n",
       "      <td>4738.0</td>\n",
       "      <td>0.782820</td>\n",
       "      <td>1.359434</td>\n",
       "      <td>0.619882</td>\n",
       "    </tr>\n",
       "    <tr>\n",
       "      <th>4</th>\n",
       "      <td>q5</td>\n",
       "      <td>b5</td>\n",
       "      <td>e5</td>\n",
       "      <td>c</td>\n",
       "      <td>1</td>\n",
       "      <td>8;2;179;181</td>\n",
       "      <td>1558093228439</td>\n",
       "      <td>2245.0</td>\n",
       "      <td>3317.0</td>\n",
       "      <td>0.676816</td>\n",
       "      <td>1.551100</td>\n",
       "      <td>0.462466</td>\n",
       "    </tr>\n",
       "    <tr>\n",
       "      <th>5</th>\n",
       "      <td>q6</td>\n",
       "      <td>b6</td>\n",
       "      <td>e6</td>\n",
       "      <td>d</td>\n",
       "      <td>1</td>\n",
       "      <td>9;2;179;182</td>\n",
       "      <td>1558093231307</td>\n",
       "      <td>1575.0</td>\n",
       "      <td>1864.0</td>\n",
       "      <td>0.844957</td>\n",
       "      <td>1.313305</td>\n",
       "      <td>0.675429</td>\n",
       "    </tr>\n",
       "    <tr>\n",
       "      <th>6</th>\n",
       "      <td>q7</td>\n",
       "      <td>b7</td>\n",
       "      <td>e7</td>\n",
       "      <td>d</td>\n",
       "      <td>1</td>\n",
       "      <td>11;7;179;183</td>\n",
       "      <td>1558093233992</td>\n",
       "      <td>5044.0</td>\n",
       "      <td>9447.0</td>\n",
       "      <td>0.533926</td>\n",
       "      <td>1.467132</td>\n",
       "      <td>0.299778</td>\n",
       "    </tr>\n",
       "    <tr>\n",
       "      <th>7</th>\n",
       "      <td>q8</td>\n",
       "      <td>b8</td>\n",
       "      <td>e8</td>\n",
       "      <td>b</td>\n",
       "      <td>1</td>\n",
       "      <td>20;21;179;184</td>\n",
       "      <td>1558093236876</td>\n",
       "      <td>2812.0</td>\n",
       "      <td>3183.0</td>\n",
       "      <td>0.883443</td>\n",
       "      <td>1.333648</td>\n",
       "      <td>0.688658</td>\n",
       "    </tr>\n",
       "    <tr>\n",
       "      <th>8</th>\n",
       "      <td>q9</td>\n",
       "      <td>b9</td>\n",
       "      <td>e9</td>\n",
       "      <td>c</td>\n",
       "      <td>1</td>\n",
       "      <td>13;2;179;183</td>\n",
       "      <td>1558093239849</td>\n",
       "      <td>1564.0</td>\n",
       "      <td>1757.0</td>\n",
       "      <td>0.890154</td>\n",
       "      <td>1.198065</td>\n",
       "      <td>0.770063</td>\n",
       "    </tr>\n",
       "    <tr>\n",
       "      <th>9</th>\n",
       "      <td>q10</td>\n",
       "      <td>b10</td>\n",
       "      <td>e10</td>\n",
       "      <td>c</td>\n",
       "      <td>1</td>\n",
       "      <td>17;7;182</td>\n",
       "      <td>1558093243018</td>\n",
       "      <td>2940.0</td>\n",
       "      <td>7964.0</td>\n",
       "      <td>0.369161</td>\n",
       "      <td>1.525113</td>\n",
       "      <td>0.172024</td>\n",
       "    </tr>\n",
       "  </tbody>\n",
       "</table>\n",
       "</div>"
      ],
      "text/plain": [
       "  question_id bundle_id explanation_id correct_answer  part           tags  \\\n",
       "0          q1        b1             e1              b     1    1;2;179;181   \n",
       "1          q2        b2             e2              a     1       15;2;182   \n",
       "2          q3        b3             e3              b     1   14;2;179;183   \n",
       "3          q4        b4             e4              b     1    9;2;179;184   \n",
       "4          q5        b5             e5              c     1    8;2;179;181   \n",
       "5          q6        b6             e6              d     1    9;2;179;182   \n",
       "6          q7        b7             e7              d     1   11;7;179;183   \n",
       "7          q8        b8             e8              b     1  20;21;179;184   \n",
       "8          q9        b9             e9              c     1   13;2;179;183   \n",
       "9         q10       b10            e10              c     1       17;7;182   \n",
       "\n",
       "     deployed_at  final_correct  num_users  pct_correct  avg_attempts  \\\n",
       "0  1558093217098         1363.0     1530.0     0.890850      1.272549   \n",
       "1  1558093219720         1251.0     1437.0     0.870564      1.231733   \n",
       "2  1558093222784         7179.0    12727.0     0.564076      1.321835   \n",
       "3  1558093225357         3709.0     4738.0     0.782820      1.359434   \n",
       "4  1558093228439         2245.0     3317.0     0.676816      1.551100   \n",
       "5  1558093231307         1575.0     1864.0     0.844957      1.313305   \n",
       "6  1558093233992         5044.0     9447.0     0.533926      1.467132   \n",
       "7  1558093236876         2812.0     3183.0     0.883443      1.333648   \n",
       "8  1558093239849         1564.0     1757.0     0.890154      1.198065   \n",
       "9  1558093243018         2940.0     7964.0     0.369161      1.525113   \n",
       "\n",
       "   correct_at_first  \n",
       "0          0.735294  \n",
       "1          0.730689  \n",
       "2          0.433488  \n",
       "3          0.619882  \n",
       "4          0.462466  \n",
       "5          0.675429  \n",
       "6          0.299778  \n",
       "7          0.688658  \n",
       "8          0.770063  \n",
       "9          0.172024  "
      ]
     },
     "execution_count": 33,
     "metadata": {},
     "output_type": "execute_result"
    }
   ],
   "source": [
    "questions_df.head(10)"
   ]
  },
  {
   "cell_type": "code",
   "execution_count": 34,
   "id": "ultimate-taiwan",
   "metadata": {
    "execution": {
     "iopub.execute_input": "2021-05-09T04:38:55.660091Z",
     "iopub.status.busy": "2021-05-09T04:38:55.659506Z",
     "iopub.status.idle": "2021-05-09T04:38:56.361887Z",
     "shell.execute_reply": "2021-05-09T04:38:56.361384Z"
    },
    "papermill": {
     "duration": 0.74026,
     "end_time": "2021-05-09T04:38:56.362033",
     "exception": false,
     "start_time": "2021-05-09T04:38:55.621773",
     "status": "completed"
    },
    "tags": []
   },
   "outputs": [],
   "source": [
    "del one_correct, questions_with_one_att, df_final_correct, df_final_respond, gb, users_per_question"
   ]
  },
  {
   "cell_type": "markdown",
   "id": "confidential-grenada",
   "metadata": {
    "papermill": {
     "duration": 0.035667,
     "end_time": "2021-05-09T04:38:56.433515",
     "exception": false,
     "start_time": "2021-05-09T04:38:56.397848",
     "status": "completed"
    },
    "tags": []
   },
   "source": [
    "## Basic analysis"
   ]
  },
  {
   "cell_type": "markdown",
   "id": "bright-andrew",
   "metadata": {
    "papermill": {
     "duration": 0.03606,
     "end_time": "2021-05-09T04:38:56.506015",
     "exception": false,
     "start_time": "2021-05-09T04:38:56.469955",
     "status": "completed"
    },
    "tags": []
   },
   "source": [
    "Correlation"
   ]
  },
  {
   "cell_type": "code",
   "execution_count": 35,
   "id": "important-hardware",
   "metadata": {
    "execution": {
     "iopub.execute_input": "2021-05-09T04:38:56.583958Z",
     "iopub.status.busy": "2021-05-09T04:38:56.583004Z",
     "iopub.status.idle": "2021-05-09T04:38:56.828723Z",
     "shell.execute_reply": "2021-05-09T04:38:56.828263Z"
    },
    "papermill": {
     "duration": 0.286865,
     "end_time": "2021-05-09T04:38:56.828858",
     "exception": false,
     "start_time": "2021-05-09T04:38:56.541993",
     "status": "completed"
    },
    "tags": []
   },
   "outputs": [
    {
     "data": {
      "text/plain": [
       "<AxesSubplot:>"
      ]
     },
     "execution_count": 35,
     "metadata": {},
     "output_type": "execute_result"
    },
    {
     "data": {
      "image/png": "[encoded data removed]",
      "text/plain": [
       "<Figure size 432x288 with 2 Axes>"
      ]
     },
     "metadata": {
      "needs_background": "light"
     },
     "output_type": "display_data"
    }
   ],
   "source": [
    "corr = questions_df[['pct_correct', 'avg_attempts', 'correct_at_first']].corr()\n",
    "mask = np.triu(np.ones_like(corr, dtype=bool))\n",
    "sns.heatmap(corr, mask=mask, cmap='YlGn', annot=True)"
   ]
  },
  {
   "cell_type": "code",
   "execution_count": 36,
   "id": "aging-survey",
   "metadata": {
    "execution": {
     "iopub.execute_input": "2021-05-09T04:38:56.913381Z",
     "iopub.status.busy": "2021-05-09T04:38:56.912427Z",
     "iopub.status.idle": "2021-05-09T04:39:00.595093Z",
     "shell.execute_reply": "2021-05-09T04:39:00.594267Z"
    },
    "papermill": {
     "duration": 3.727529,
     "end_time": "2021-05-09T04:39:00.595226",
     "exception": false,
     "start_time": "2021-05-09T04:38:56.867697",
     "status": "completed"
    },
    "tags": []
   },
   "outputs": [
    {
     "data": {
      "text/plain": [
       "<seaborn.axisgrid.PairGrid at 0x7f6b6660ccd0>"
      ]
     },
     "execution_count": 36,
     "metadata": {},
     "output_type": "execute_result"
    },
    {
     "data": {
      "image/png": "[encoded data removed]",
      "text/plain": [
       "<Figure size 540x540 with 9 Axes>"
      ]
     },
     "metadata": {
      "needs_background": "light"
     },
     "output_type": "display_data"
    }
   ],
   "source": [
    "sns.pairplot(questions_df[['pct_correct', 'avg_attempts', 'correct_at_first']], kind='reg', plot_kws={'line_kws':{'color':'red'}}, corner=True)"
   ]
  },
  {
   "cell_type": "markdown",
   "id": "entertaining-berlin",
   "metadata": {
    "papermill": {
     "duration": 0.038068,
     "end_time": "2021-05-09T04:39:00.671997",
     "exception": false,
     "start_time": "2021-05-09T04:39:00.633929",
     "status": "completed"
    },
    "tags": []
   },
   "source": [
    "## Tags"
   ]
  },
  {
   "cell_type": "code",
   "execution_count": 37,
   "id": "accomplished-robertson",
   "metadata": {
    "execution": {
     "iopub.execute_input": "2021-05-09T04:39:00.767630Z",
     "iopub.status.busy": "2021-05-09T04:39:00.767060Z",
     "iopub.status.idle": "2021-05-09T04:39:00.769794Z",
     "shell.execute_reply": "2021-05-09T04:39:00.770439Z"
    },
    "papermill": {
     "duration": 0.060357,
     "end_time": "2021-05-09T04:39:00.770606",
     "exception": false,
     "start_time": "2021-05-09T04:39:00.710249",
     "status": "completed"
    },
    "tags": []
   },
   "outputs": [
    {
     "name": "stdout",
     "output_type": "stream",
     "text": [
      "{'125', '160', '120', '104', '85', '181', '168', '24', '102', '50', '164', '118', '88', '65', '62', '4', '89', '56', '7', '123', '177', '163', '172', '126', '180', '91', '25', '96', '171', '152', '15', '175', '68', '114', '107', '6', '122', '86', '133', '-1', '73', '44', '134', '77', '70', '54', '137', '66', '82', '83', '150', '48', '185', '14', '179', '148', '2', '63', '40', '157', '144', '136', '97', '47', '186', '80', '94', '51', '158', '42', '149', '183', '79', '132', '146', '170', '135', '130', '176', '57', '34', '72', '39', '178', '67', '3', '300', '64', '109', '108', '174', '153', '55', '35', '115', '143', '12', '38', '138', '140', '99', '30', '16', '52', '53', '37', '196', '194', '184', '33', '27', '147', '117', '165', '22', '36', '11', '45', '111', '105', '151', '10', '20', '32', '81', '113', '110', '128', '43', '129', '112', '84', '124', '23', '21', '101', '161', '173', '155', '159', '31', '71', '121', '93', '75', '166', '26', '87', '98', '116', '131', '145', '19', '61', '1', '59', '142', '49', '103', '13', '46', '60', '17', '29', '9', '162', '95', '219', '100', '76', '90', '106', '5', '78', '18', '92', '154', '74', '169', '182', '69', '8', '41', '141', '156', '167', '28', '58', '119'}\n"
     ]
    }
   ],
   "source": [
    "tags = set(itertools.chain.from_iterable(questions_df['tags'].str.split(';')))\n",
    "print(tags)"
   ]
  },
  {
   "cell_type": "code",
   "execution_count": 38,
   "id": "changing-enemy",
   "metadata": {
    "execution": {
     "iopub.execute_input": "2021-05-09T04:39:00.856352Z",
     "iopub.status.busy": "2021-05-09T04:39:00.855382Z",
     "iopub.status.idle": "2021-05-09T04:39:00.942470Z",
     "shell.execute_reply": "2021-05-09T04:39:00.941926Z"
    },
    "papermill": {
     "duration": 0.133003,
     "end_time": "2021-05-09T04:39:00.942608",
     "exception": false,
     "start_time": "2021-05-09T04:39:00.809605",
     "status": "completed"
    },
    "tags": []
   },
   "outputs": [],
   "source": [
    "for tag in tags:\n",
    "    if tag != '-1':\n",
    "        questions_df[tag] = 0"
   ]
  },
  {
   "cell_type": "code",
   "execution_count": 39,
   "id": "bigger-treat",
   "metadata": {
    "execution": {
     "iopub.execute_input": "2021-05-09T04:39:01.029761Z",
     "iopub.status.busy": "2021-05-09T04:39:01.028944Z",
     "iopub.status.idle": "2021-05-09T04:39:01.031870Z",
     "shell.execute_reply": "2021-05-09T04:39:01.031353Z"
    },
    "papermill": {
     "duration": 0.048525,
     "end_time": "2021-05-09T04:39:01.032011",
     "exception": false,
     "start_time": "2021-05-09T04:39:00.983486",
     "status": "completed"
    },
    "tags": []
   },
   "outputs": [],
   "source": [
    "def encode_tags(cols):\n",
    "    tags = questions_df[questions_df['question_id']==cols['question_id']]['tags'].str.split(';').values[0]\n",
    "    if tags[0] != '-1':\n",
    "        for tag in tags:\n",
    "            cols[tag] = 1\n",
    "    return cols"
   ]
  },
  {
   "cell_type": "code",
   "execution_count": 40,
   "id": "backed-receiver",
   "metadata": {
    "execution": {
     "iopub.execute_input": "2021-05-09T04:39:01.114525Z",
     "iopub.status.busy": "2021-05-09T04:39:01.113885Z",
     "iopub.status.idle": "2021-05-09T04:39:25.294053Z",
     "shell.execute_reply": "2021-05-09T04:39:25.293533Z"
    },
    "papermill": {
     "duration": 24.223029,
     "end_time": "2021-05-09T04:39:25.294205",
     "exception": false,
     "start_time": "2021-05-09T04:39:01.071176",
     "status": "completed"
    },
    "tags": []
   },
   "outputs": [],
   "source": [
    "questions_df = questions_df.apply(encode_tags, axis=1)"
   ]
  },
  {
   "cell_type": "code",
   "execution_count": 41,
   "id": "deadly-tanzania",
   "metadata": {
    "execution": {
     "iopub.execute_input": "2021-05-09T04:39:25.380111Z",
     "iopub.status.busy": "2021-05-09T04:39:25.379543Z",
     "iopub.status.idle": "2021-05-09T04:39:26.078314Z",
     "shell.execute_reply": "2021-05-09T04:39:26.078747Z"
    },
    "papermill": {
     "duration": 0.744889,
     "end_time": "2021-05-09T04:39:26.078938",
     "exception": false,
     "start_time": "2021-05-09T04:39:25.334049",
     "status": "completed"
    },
    "tags": []
   },
   "outputs": [
    {
     "data": {
      "text/html": [
       "<div>\n",
       "<style scoped>\n",
       "    .dataframe tbody tr th:only-of-type {\n",
       "        vertical-align: middle;\n",
       "    }\n",
       "\n",
       "    .dataframe tbody tr th {\n",
       "        vertical-align: top;\n",
       "    }\n",
       "\n",
       "    .dataframe thead th {\n",
       "        text-align: right;\n",
       "    }\n",
       "</style>\n",
       "<table border=\"1\" class=\"dataframe\">\n",
       "  <thead>\n",
       "    <tr style=\"text-align: right;\">\n",
       "      <th></th>\n",
       "      <th>tag</th>\n",
       "      <th>pct_correct</th>\n",
       "      <th>avg_attempts</th>\n",
       "      <th>correct_at_first</th>\n",
       "    </tr>\n",
       "  </thead>\n",
       "  <tbody>\n",
       "    <tr>\n",
       "      <th>0</th>\n",
       "      <td>125</td>\n",
       "      <td>0.586414</td>\n",
       "      <td>1.744949</td>\n",
       "      <td>0.399923</td>\n",
       "    </tr>\n",
       "    <tr>\n",
       "      <th>1</th>\n",
       "      <td>160</td>\n",
       "      <td>0.566948</td>\n",
       "      <td>1.515389</td>\n",
       "      <td>0.409175</td>\n",
       "    </tr>\n",
       "    <tr>\n",
       "      <th>2</th>\n",
       "      <td>120</td>\n",
       "      <td>0.773456</td>\n",
       "      <td>1.512182</td>\n",
       "      <td>0.593632</td>\n",
       "    </tr>\n",
       "    <tr>\n",
       "      <th>3</th>\n",
       "      <td>104</td>\n",
       "      <td>0.738278</td>\n",
       "      <td>1.453144</td>\n",
       "      <td>0.598339</td>\n",
       "    </tr>\n",
       "    <tr>\n",
       "      <th>4</th>\n",
       "      <td>85</td>\n",
       "      <td>0.636112</td>\n",
       "      <td>1.504551</td>\n",
       "      <td>0.485142</td>\n",
       "    </tr>\n",
       "    <tr>\n",
       "      <th>...</th>\n",
       "      <td>...</td>\n",
       "      <td>...</td>\n",
       "      <td>...</td>\n",
       "      <td>...</td>\n",
       "    </tr>\n",
       "    <tr>\n",
       "      <th>183</th>\n",
       "      <td>156</td>\n",
       "      <td>0.776648</td>\n",
       "      <td>1.372164</td>\n",
       "      <td>0.617315</td>\n",
       "    </tr>\n",
       "    <tr>\n",
       "      <th>184</th>\n",
       "      <td>167</td>\n",
       "      <td>0.763323</td>\n",
       "      <td>1.396992</td>\n",
       "      <td>0.589676</td>\n",
       "    </tr>\n",
       "    <tr>\n",
       "      <th>185</th>\n",
       "      <td>28</td>\n",
       "      <td>0.753037</td>\n",
       "      <td>1.374094</td>\n",
       "      <td>0.598374</td>\n",
       "    </tr>\n",
       "    <tr>\n",
       "      <th>186</th>\n",
       "      <td>58</td>\n",
       "      <td>0.721009</td>\n",
       "      <td>1.272382</td>\n",
       "      <td>0.589913</td>\n",
       "    </tr>\n",
       "    <tr>\n",
       "      <th>187</th>\n",
       "      <td>119</td>\n",
       "      <td>0.723938</td>\n",
       "      <td>1.457947</td>\n",
       "      <td>0.571077</td>\n",
       "    </tr>\n",
       "  </tbody>\n",
       "</table>\n",
       "<p>188 rows × 4 columns</p>\n",
       "</div>"
      ],
      "text/plain": [
       "     tag  pct_correct  avg_attempts  correct_at_first\n",
       "0    125     0.586414      1.744949          0.399923\n",
       "1    160     0.566948      1.515389          0.409175\n",
       "2    120     0.773456      1.512182          0.593632\n",
       "3    104     0.738278      1.453144          0.598339\n",
       "4     85     0.636112      1.504551          0.485142\n",
       "..   ...          ...           ...               ...\n",
       "183  156     0.776648      1.372164          0.617315\n",
       "184  167     0.763323      1.396992          0.589676\n",
       "185   28     0.753037      1.374094          0.598374\n",
       "186   58     0.721009      1.272382          0.589913\n",
       "187  119     0.723938      1.457947          0.571077\n",
       "\n",
       "[188 rows x 4 columns]"
      ]
     },
     "execution_count": 41,
     "metadata": {},
     "output_type": "execute_result"
    }
   ],
   "source": [
    "stats = {'tag': [], 'pct_correct': [], 'avg_attempts': [], 'correct_at_first': []}\n",
    "for tag in tags:\n",
    "    if tag != '-1':\n",
    "        stats['tag'].append(tag)\n",
    "        stats['pct_correct'].append(questions_df[questions_df[tag]==1]['pct_correct'].mean())\n",
    "        stats['avg_attempts'].append(questions_df[questions_df[tag]==1]['avg_attempts'].mean())\n",
    "        stats['correct_at_first'].append(questions_df[questions_df[tag]==1]['correct_at_first'].mean())\n",
    "        \n",
    "tags_df = pd.DataFrame(stats)\n",
    "tags_df"
   ]
  },
  {
   "cell_type": "markdown",
   "id": "literary-upper",
   "metadata": {
    "papermill": {
     "duration": 0.040983,
     "end_time": "2021-05-09T04:39:26.161420",
     "exception": false,
     "start_time": "2021-05-09T04:39:26.120437",
     "status": "completed"
    },
    "tags": []
   },
   "source": [
    "Percentage of correct answers"
   ]
  },
  {
   "cell_type": "code",
   "execution_count": 42,
   "id": "impaired-referral",
   "metadata": {
    "execution": {
     "iopub.execute_input": "2021-05-09T04:39:26.246698Z",
     "iopub.status.busy": "2021-05-09T04:39:26.246152Z",
     "iopub.status.idle": "2021-05-09T04:39:26.255065Z",
     "shell.execute_reply": "2021-05-09T04:39:26.254460Z"
    },
    "papermill": {
     "duration": 0.052227,
     "end_time": "2021-05-09T04:39:26.255193",
     "exception": false,
     "start_time": "2021-05-09T04:39:26.202966",
     "status": "completed"
    },
    "tags": []
   },
   "outputs": [
    {
     "name": "stdout",
     "output_type": "stream",
     "text": [
      "Highest pct of correct ans:\n",
      " tag                        9\n",
      "pct_correct         0.879032\n",
      "avg_attempts        1.298429\n",
      "correct_at_first    0.712348\n",
      "Name: 163, dtype: object\n",
      "\n",
      "Lowest pct of correct ans:\n",
      " tag                       97\n",
      "pct_correct         0.529137\n",
      "avg_attempts        1.564123\n",
      "correct_at_first    0.351679\n",
      "Name: 61, dtype: object\n"
     ]
    }
   ],
   "source": [
    "print('Highest pct of correct ans:\\n', tags_df.loc[tags_df['pct_correct'].argmax()])\n",
    "print()\n",
    "print('Lowest pct of correct ans:\\n', tags_df.loc[tags_df['pct_correct'].argmin()])"
   ]
  },
  {
   "cell_type": "markdown",
   "id": "liable-semester",
   "metadata": {
    "papermill": {
     "duration": 0.039763,
     "end_time": "2021-05-09T04:39:26.334742",
     "exception": false,
     "start_time": "2021-05-09T04:39:26.294979",
     "status": "completed"
    },
    "tags": []
   },
   "source": [
    "Avg no. of attempts"
   ]
  },
  {
   "cell_type": "code",
   "execution_count": 43,
   "id": "extensive-swimming",
   "metadata": {
    "execution": {
     "iopub.execute_input": "2021-05-09T04:39:26.421950Z",
     "iopub.status.busy": "2021-05-09T04:39:26.421297Z",
     "iopub.status.idle": "2021-05-09T04:39:26.424222Z",
     "shell.execute_reply": "2021-05-09T04:39:26.424599Z"
    },
    "papermill": {
     "duration": 0.050176,
     "end_time": "2021-05-09T04:39:26.424747",
     "exception": false,
     "start_time": "2021-05-09T04:39:26.374571",
     "status": "completed"
    },
    "tags": []
   },
   "outputs": [
    {
     "name": "stdout",
     "output_type": "stream",
     "text": [
      "Highest avg no. of attempts:\n",
      " tag                       62\n",
      "pct_correct         0.733364\n",
      "avg_attempts        1.779648\n",
      "correct_at_first    0.533513\n",
      "Name: 14, dtype: object\n",
      "\n",
      "Lowest avg no. of attempts:\n",
      " tag                      169\n",
      "pct_correct         0.667962\n",
      "avg_attempts        1.239665\n",
      "correct_at_first    0.554337\n",
      "Name: 177, dtype: object\n"
     ]
    }
   ],
   "source": [
    "print('Highest avg no. of attempts:\\n', tags_df.loc[tags_df['avg_attempts'].argmax()])\n",
    "print()\n",
    "print('Lowest avg no. of attempts:\\n', tags_df.loc[tags_df['avg_attempts'].argmin()])"
   ]
  },
  {
   "cell_type": "markdown",
   "id": "whole-looking",
   "metadata": {
    "papermill": {
     "duration": 0.039943,
     "end_time": "2021-05-09T04:39:26.505082",
     "exception": false,
     "start_time": "2021-05-09T04:39:26.465139",
     "status": "completed"
    },
    "tags": []
   },
   "source": [
    "Answer correctly using one attempts"
   ]
  },
  {
   "cell_type": "code",
   "execution_count": 44,
   "id": "controversial-estonia",
   "metadata": {
    "execution": {
     "iopub.execute_input": "2021-05-09T04:39:26.594081Z",
     "iopub.status.busy": "2021-05-09T04:39:26.593238Z",
     "iopub.status.idle": "2021-05-09T04:39:26.597085Z",
     "shell.execute_reply": "2021-05-09T04:39:26.597756Z"
    },
    "papermill": {
     "duration": 0.052501,
     "end_time": "2021-05-09T04:39:26.597973",
     "exception": false,
     "start_time": "2021-05-09T04:39:26.545472",
     "status": "completed"
    },
    "tags": []
   },
   "outputs": [
    {
     "name": "stdout",
     "output_type": "stream",
     "text": [
      "Highest pct of 1st correct attempt:\n",
      " tag                       12\n",
      "pct_correct         0.869905\n",
      "avg_attempts        1.290161\n",
      "correct_at_first    0.715385\n",
      "Name: 95, dtype: object\n",
      "\n",
      "Lowest pct of 1st correct attempt:\n",
      " tag                       97\n",
      "pct_correct         0.529137\n",
      "avg_attempts        1.564123\n",
      "correct_at_first    0.351679\n",
      "Name: 61, dtype: object\n"
     ]
    }
   ],
   "source": [
    "print('Highest pct of 1st correct attempt:\\n', tags_df.loc[tags_df['correct_at_first'].argmax()])\n",
    "print()\n",
    "print('Lowest pct of 1st correct attempt:\\n', tags_df.loc[tags_df['correct_at_first'].argmin()])"
   ]
  },
  {
   "cell_type": "markdown",
   "id": "confirmed-appliance",
   "metadata": {
    "papermill": {
     "duration": 0.040553,
     "end_time": "2021-05-09T04:39:26.681027",
     "exception": false,
     "start_time": "2021-05-09T04:39:26.640474",
     "status": "completed"
    },
    "tags": []
   },
   "source": [
    "## Write to file"
   ]
  },
  {
   "cell_type": "code",
   "execution_count": 45,
   "id": "promising-bennett",
   "metadata": {
    "execution": {
     "iopub.execute_input": "2021-05-09T04:39:26.767612Z",
     "iopub.status.busy": "2021-05-09T04:39:26.767003Z",
     "iopub.status.idle": "2021-05-09T04:39:27.151177Z",
     "shell.execute_reply": "2021-05-09T04:39:27.150548Z"
    },
    "papermill": {
     "duration": 0.429333,
     "end_time": "2021-05-09T04:39:27.151311",
     "exception": false,
     "start_time": "2021-05-09T04:39:26.721978",
     "status": "completed"
    },
    "tags": []
   },
   "outputs": [],
   "source": [
    "questions_df.to_csv('question_features.csv', index=False)"
   ]
  }
 ],
 "metadata": {
  "kernelspec": {
   "display_name": "Python 3",
   "language": "python",
   "name": "python3"
  },
  "language_info": {
   "codemirror_mode": {
    "name": "ipython",
    "version": 3
   },
   "file_extension": ".py",
   "mimetype": "text/x-python",
   "name": "python",
   "nbconvert_exporter": "python",
   "pygments_lexer": "ipython3",
   "version": "3.8.8"
  },
  "papermill": {
   "default_parameters": {},
   "duration": 179.78323,
   "end_time": "2021-05-09T04:39:29.800562",
   "environment_variables": {},
   "exception": null,
   "input_path": "__notebook__.ipynb",
   "output_path": "__notebook__.ipynb",
   "parameters": {},
   "start_time": "2021-05-09T04:36:30.017332",
   "version": "2.3.3"
  }
 },
 "nbformat": 4,
 "nbformat_minor": 5
}
